{
  "nbformat": 4,
  "nbformat_minor": 0,
  "metadata": {
    "colab": {
      "provenance": [],
      "collapsed_sections": [],
      "authorship_tag": "ABX9TyNHPfhTA4bmQSQwU6U3febH",
      "include_colab_link": true
    },
    "kernelspec": {
      "name": "python3",
      "display_name": "Python 3"
    },
    "language_info": {
      "name": "python"
    }
  },
  "cells": [
    {
      "cell_type": "markdown",
      "metadata": {
        "id": "view-in-github",
        "colab_type": "text"
      },
      "source": [
        "<a href=\"https://colab.research.google.com/github/LamaElkhouk/pythonh3hitema/blob/main/introduction_analyse_donn%C3%A9es.ipynb\" target=\"_parent\"><img src=\"https://colab.research.google.com/assets/colab-badge.svg\" alt=\"Open In Colab\"/></a>"
      ]
    },
    {
      "cell_type": "code",
      "execution_count": null,
      "metadata": {
        "colab": {
          "base_uri": "https://localhost:8080/"
        },
        "id": "C8AtNE_SpqYM",
        "outputId": "57ad1407-ecdf-4d12-f357-34fee748784f"
      },
      "outputs": [
        {
          "output_type": "stream",
          "name": "stdout",
          "text": [
            "sample_data\n",
            "/content\n",
            "seaborn                       0.11.2\n"
          ]
        }
      ],
      "source": [
        "#colab est une machine distante\n",
        "!ls\n",
        "\n",
        "!pwd\n",
        "\n",
        "!pip list | grep seaborn  #pour s'assurer que la librairie existe deja\n",
        "\n",
        "# on utilise ! avant chaque commande pour utiliser du bash, la commande interprete du bash\n"
      ]
    },
    {
      "cell_type": "markdown",
      "source": [
        "**Introduction**\n"
      ],
      "metadata": {
        "id": "dBkB9O3NrEmv"
      }
    },
    {
      "cell_type": "code",
      "source": [
        "#charger les librairies\n",
        "\n",
        "import pandas as pd\n",
        "import numpy as np\n",
        "import seaborn as sb\n",
        "\n",
        "\n",
        "#revisions\n",
        "tab = []\n",
        "\n",
        "for i in range(10):\n",
        "  tab.append(i)\n",
        "tab\n",
        "\n",
        "\n",
        "tab2=[x for x in range(10)] \n",
        "tab2\n",
        "\n",
        "tab3=[[ x for x in range(10)] for y in range(10)]  #tableau en deux dimension\n",
        "tab3\n",
        "\n",
        "#inconvenient\n",
        "#recuperer une colonne on itere sur les lignes et numpy resou ce probleme et fonctionne avec des array()\n",
        "tab4=[[1,2,3],[3,4,6]]\n",
        "ar = np.array(tab4)\n",
        "ar=np.array(tab4,dtype='int8')\n",
        "ar.max()\n",
        "ar.dtype\n",
        "\n",
        "ar.std() #ecart-type\n",
        "\n",
        "ar.mean() #moyenne\n",
        "ar.shape  # deux ligne , trois colonnes \n",
        "\n",
        "#création rapide de tableau\n",
        "b= np.linspace(0,2,4); b  #va de 0 à 2 et met 4 points\n",
        "\n",
        "b**2  #mettre au carré les valeurs\n",
        "\n",
        "c= np.arange(24).reshape(2,3,4)#tableau de 24 valeurs\n",
        "#2 sous tab de 3 dimension,  4 colonnes , numpy ordonne les valeurs \n",
        "\n",
        "c.shape\n",
        "c.ndim\n",
        "#favoriser l'utilisation de shape\n",
        "\n",
        "\n",
        "#création d'un masque\n",
        "ar==3\n",
        "\n",
        "\n",
        "#axis=1  ligne   axis=0  colonne\n",
        "\n",
        "test=np.array([[1,2],[3,4]])\n",
        "\n",
        "test.sum(axis=0)\n",
        "\n",
        "#tres important , matrice diagonale\n",
        "np.diag(np.array([1,4,7,9]))\n"
      ],
      "metadata": {
        "colab": {
          "base_uri": "https://localhost:8080/"
        },
        "id": "pFRuG9XTrLG4",
        "outputId": "3e79cadb-715f-4abc-80d5-b5dfa824a796"
      },
      "execution_count": 5,
      "outputs": [
        {
          "output_type": "execute_result",
          "data": {
            "text/plain": [
              "array([[1, 0, 0, 0],\n",
              "       [0, 4, 0, 0],\n",
              "       [0, 0, 7, 0],\n",
              "       [0, 0, 0, 9]])"
            ]
          },
          "metadata": {},
          "execution_count": 5
        }
      ]
    },
    {
      "cell_type": "markdown",
      "source": [
        "**manipulation de pandas**\n",
        "\n"
      ],
      "metadata": {
        "id": "insVfCd_6TO0"
      }
    },
    {
      "cell_type": "code",
      "source": [
        "#numpy utilise les array et pandas utilise les series\n",
        "#les series sont indexé et print le format de données\n",
        "\n",
        "\n",
        "l=pd.Series(['il','fait','beau'])\n",
        "l\n"
      ],
      "metadata": {
        "colab": {
          "base_uri": "https://localhost:8080/"
        },
        "id": "dvag4gYW6X91",
        "outputId": "f2b9df7d-1c2c-4f4a-c55a-d6d5ab858b32"
      },
      "execution_count": null,
      "outputs": [
        {
          "output_type": "execute_result",
          "data": {
            "text/plain": [
              "0      il\n",
              "1    fait\n",
              "2    beau\n",
              "dtype: object"
            ]
          },
          "metadata": {},
          "execution_count": 38
        }
      ]
    },
    {
      "cell_type": "markdown",
      "source": [
        "**Data Visualisation Statistiques descriptives **\n",
        "\n",
        "\n",
        "**1) Importez les données csv**\n",
        "\n"
      ],
      "metadata": {
        "id": "Q9HRIoXZ63rK"
      }
    },
    {
      "cell_type": "code",
      "source": [
        "\n",
        "\n",
        "house_pricing = pd.read_csv('/house_pricing.csv');\n",
        "house_pricing.head(10) #affiche les 3 prmieres ligne du tableau csv\n",
        "\n",
        "house_pricing.dropna(how='any', subset=['Alley'])\n"
      ],
      "metadata": {
        "colab": {
          "base_uri": "https://localhost:8080/",
          "height": 488
        },
        "id": "RZ14DqsQ9qJQ",
        "outputId": "bf000a5a-6883-479e-d72a-54a286075298"
      },
      "execution_count": 6,
      "outputs": [
        {
          "output_type": "execute_result",
          "data": {
            "text/plain": [
              "        Id  MSSubClass MSZoning  LotFrontage  LotArea Street Alley LotShape  \\\n",
              "21      22          45       RM         57.0     7449   Pave  Grvl      Reg   \n",
              "30      31          70  C (all)         50.0     8500   Pave  Pave      Reg   \n",
              "56      57         160       FV         24.0     2645   Pave  Pave      Reg   \n",
              "79      80          50       RM         60.0    10440   Pave  Grvl      Reg   \n",
              "87      88         160       FV         40.0     3951   Pave  Pave      Reg   \n",
              "...    ...         ...      ...          ...      ...    ...   ...      ...   \n",
              "1404  1405          50       RL         60.0    10410   Pave  Grvl      Reg   \n",
              "1414  1415          50       RL         64.0    13053   Pave  Pave      Reg   \n",
              "1427  1428          50       RL         60.0    10930   Pave  Grvl      Reg   \n",
              "1432  1433          30       RL         60.0    10800   Pave  Grvl      Reg   \n",
              "1454  1455          20       FV         62.0     7500   Pave  Pave      Reg   \n",
              "\n",
              "     LandContour Utilities  ... PoolArea PoolQC  Fence MiscFeature MiscVal  \\\n",
              "21           Bnk    AllPub  ...        0    NaN  GdPrv         NaN       0   \n",
              "30           Lvl    AllPub  ...        0    NaN  MnPrv         NaN       0   \n",
              "56           Lvl    AllPub  ...        0    NaN    NaN         NaN       0   \n",
              "79           Lvl    AllPub  ...        0    NaN  MnPrv         NaN       0   \n",
              "87           Lvl    AllPub  ...        0    NaN    NaN         NaN       0   \n",
              "...          ...       ...  ...      ...    ...    ...         ...     ...   \n",
              "1404         Lvl    AllPub  ...        0    NaN  MnPrv         NaN       0   \n",
              "1414         Bnk    AllPub  ...        0    NaN    NaN         NaN       0   \n",
              "1427         Bnk    AllPub  ...        0    NaN    NaN         NaN       0   \n",
              "1432         Lvl    AllPub  ...        0    NaN    NaN         NaN       0   \n",
              "1454         Lvl    AllPub  ...        0    NaN    NaN         NaN       0   \n",
              "\n",
              "     MoSold YrSold  SaleType  SaleCondition  SalePrice  \n",
              "21        6   2007        WD         Normal     139400  \n",
              "30        7   2008        WD         Normal      40000  \n",
              "56        8   2009        WD        Abnorml     172500  \n",
              "79        5   2009        WD         Normal     110000  \n",
              "87        6   2009       New        Partial     164500  \n",
              "...     ...    ...       ...            ...        ...  \n",
              "1404      1   2006        WD         Family     105000  \n",
              "1414      6   2008        WD         Normal     207000  \n",
              "1427      4   2008        WD         Normal     140000  \n",
              "1432      8   2007        WD         Normal      64500  \n",
              "1454     10   2009        WD         Normal     185000  \n",
              "\n",
              "[91 rows x 81 columns]"
            ],
            "text/html": [
              "\n",
              "  <div id=\"df-6a09cc44-4192-4c89-94ee-2e85bee57899\">\n",
              "    <div class=\"colab-df-container\">\n",
              "      <div>\n",
              "<style scoped>\n",
              "    .dataframe tbody tr th:only-of-type {\n",
              "        vertical-align: middle;\n",
              "    }\n",
              "\n",
              "    .dataframe tbody tr th {\n",
              "        vertical-align: top;\n",
              "    }\n",
              "\n",
              "    .dataframe thead th {\n",
              "        text-align: right;\n",
              "    }\n",
              "</style>\n",
              "<table border=\"1\" class=\"dataframe\">\n",
              "  <thead>\n",
              "    <tr style=\"text-align: right;\">\n",
              "      <th></th>\n",
              "      <th>Id</th>\n",
              "      <th>MSSubClass</th>\n",
              "      <th>MSZoning</th>\n",
              "      <th>LotFrontage</th>\n",
              "      <th>LotArea</th>\n",
              "      <th>Street</th>\n",
              "      <th>Alley</th>\n",
              "      <th>LotShape</th>\n",
              "      <th>LandContour</th>\n",
              "      <th>Utilities</th>\n",
              "      <th>...</th>\n",
              "      <th>PoolArea</th>\n",
              "      <th>PoolQC</th>\n",
              "      <th>Fence</th>\n",
              "      <th>MiscFeature</th>\n",
              "      <th>MiscVal</th>\n",
              "      <th>MoSold</th>\n",
              "      <th>YrSold</th>\n",
              "      <th>SaleType</th>\n",
              "      <th>SaleCondition</th>\n",
              "      <th>SalePrice</th>\n",
              "    </tr>\n",
              "  </thead>\n",
              "  <tbody>\n",
              "    <tr>\n",
              "      <th>21</th>\n",
              "      <td>22</td>\n",
              "      <td>45</td>\n",
              "      <td>RM</td>\n",
              "      <td>57.0</td>\n",
              "      <td>7449</td>\n",
              "      <td>Pave</td>\n",
              "      <td>Grvl</td>\n",
              "      <td>Reg</td>\n",
              "      <td>Bnk</td>\n",
              "      <td>AllPub</td>\n",
              "      <td>...</td>\n",
              "      <td>0</td>\n",
              "      <td>NaN</td>\n",
              "      <td>GdPrv</td>\n",
              "      <td>NaN</td>\n",
              "      <td>0</td>\n",
              "      <td>6</td>\n",
              "      <td>2007</td>\n",
              "      <td>WD</td>\n",
              "      <td>Normal</td>\n",
              "      <td>139400</td>\n",
              "    </tr>\n",
              "    <tr>\n",
              "      <th>30</th>\n",
              "      <td>31</td>\n",
              "      <td>70</td>\n",
              "      <td>C (all)</td>\n",
              "      <td>50.0</td>\n",
              "      <td>8500</td>\n",
              "      <td>Pave</td>\n",
              "      <td>Pave</td>\n",
              "      <td>Reg</td>\n",
              "      <td>Lvl</td>\n",
              "      <td>AllPub</td>\n",
              "      <td>...</td>\n",
              "      <td>0</td>\n",
              "      <td>NaN</td>\n",
              "      <td>MnPrv</td>\n",
              "      <td>NaN</td>\n",
              "      <td>0</td>\n",
              "      <td>7</td>\n",
              "      <td>2008</td>\n",
              "      <td>WD</td>\n",
              "      <td>Normal</td>\n",
              "      <td>40000</td>\n",
              "    </tr>\n",
              "    <tr>\n",
              "      <th>56</th>\n",
              "      <td>57</td>\n",
              "      <td>160</td>\n",
              "      <td>FV</td>\n",
              "      <td>24.0</td>\n",
              "      <td>2645</td>\n",
              "      <td>Pave</td>\n",
              "      <td>Pave</td>\n",
              "      <td>Reg</td>\n",
              "      <td>Lvl</td>\n",
              "      <td>AllPub</td>\n",
              "      <td>...</td>\n",
              "      <td>0</td>\n",
              "      <td>NaN</td>\n",
              "      <td>NaN</td>\n",
              "      <td>NaN</td>\n",
              "      <td>0</td>\n",
              "      <td>8</td>\n",
              "      <td>2009</td>\n",
              "      <td>WD</td>\n",
              "      <td>Abnorml</td>\n",
              "      <td>172500</td>\n",
              "    </tr>\n",
              "    <tr>\n",
              "      <th>79</th>\n",
              "      <td>80</td>\n",
              "      <td>50</td>\n",
              "      <td>RM</td>\n",
              "      <td>60.0</td>\n",
              "      <td>10440</td>\n",
              "      <td>Pave</td>\n",
              "      <td>Grvl</td>\n",
              "      <td>Reg</td>\n",
              "      <td>Lvl</td>\n",
              "      <td>AllPub</td>\n",
              "      <td>...</td>\n",
              "      <td>0</td>\n",
              "      <td>NaN</td>\n",
              "      <td>MnPrv</td>\n",
              "      <td>NaN</td>\n",
              "      <td>0</td>\n",
              "      <td>5</td>\n",
              "      <td>2009</td>\n",
              "      <td>WD</td>\n",
              "      <td>Normal</td>\n",
              "      <td>110000</td>\n",
              "    </tr>\n",
              "    <tr>\n",
              "      <th>87</th>\n",
              "      <td>88</td>\n",
              "      <td>160</td>\n",
              "      <td>FV</td>\n",
              "      <td>40.0</td>\n",
              "      <td>3951</td>\n",
              "      <td>Pave</td>\n",
              "      <td>Pave</td>\n",
              "      <td>Reg</td>\n",
              "      <td>Lvl</td>\n",
              "      <td>AllPub</td>\n",
              "      <td>...</td>\n",
              "      <td>0</td>\n",
              "      <td>NaN</td>\n",
              "      <td>NaN</td>\n",
              "      <td>NaN</td>\n",
              "      <td>0</td>\n",
              "      <td>6</td>\n",
              "      <td>2009</td>\n",
              "      <td>New</td>\n",
              "      <td>Partial</td>\n",
              "      <td>164500</td>\n",
              "    </tr>\n",
              "    <tr>\n",
              "      <th>...</th>\n",
              "      <td>...</td>\n",
              "      <td>...</td>\n",
              "      <td>...</td>\n",
              "      <td>...</td>\n",
              "      <td>...</td>\n",
              "      <td>...</td>\n",
              "      <td>...</td>\n",
              "      <td>...</td>\n",
              "      <td>...</td>\n",
              "      <td>...</td>\n",
              "      <td>...</td>\n",
              "      <td>...</td>\n",
              "      <td>...</td>\n",
              "      <td>...</td>\n",
              "      <td>...</td>\n",
              "      <td>...</td>\n",
              "      <td>...</td>\n",
              "      <td>...</td>\n",
              "      <td>...</td>\n",
              "      <td>...</td>\n",
              "      <td>...</td>\n",
              "    </tr>\n",
              "    <tr>\n",
              "      <th>1404</th>\n",
              "      <td>1405</td>\n",
              "      <td>50</td>\n",
              "      <td>RL</td>\n",
              "      <td>60.0</td>\n",
              "      <td>10410</td>\n",
              "      <td>Pave</td>\n",
              "      <td>Grvl</td>\n",
              "      <td>Reg</td>\n",
              "      <td>Lvl</td>\n",
              "      <td>AllPub</td>\n",
              "      <td>...</td>\n",
              "      <td>0</td>\n",
              "      <td>NaN</td>\n",
              "      <td>MnPrv</td>\n",
              "      <td>NaN</td>\n",
              "      <td>0</td>\n",
              "      <td>1</td>\n",
              "      <td>2006</td>\n",
              "      <td>WD</td>\n",
              "      <td>Family</td>\n",
              "      <td>105000</td>\n",
              "    </tr>\n",
              "    <tr>\n",
              "      <th>1414</th>\n",
              "      <td>1415</td>\n",
              "      <td>50</td>\n",
              "      <td>RL</td>\n",
              "      <td>64.0</td>\n",
              "      <td>13053</td>\n",
              "      <td>Pave</td>\n",
              "      <td>Pave</td>\n",
              "      <td>Reg</td>\n",
              "      <td>Bnk</td>\n",
              "      <td>AllPub</td>\n",
              "      <td>...</td>\n",
              "      <td>0</td>\n",
              "      <td>NaN</td>\n",
              "      <td>NaN</td>\n",
              "      <td>NaN</td>\n",
              "      <td>0</td>\n",
              "      <td>6</td>\n",
              "      <td>2008</td>\n",
              "      <td>WD</td>\n",
              "      <td>Normal</td>\n",
              "      <td>207000</td>\n",
              "    </tr>\n",
              "    <tr>\n",
              "      <th>1427</th>\n",
              "      <td>1428</td>\n",
              "      <td>50</td>\n",
              "      <td>RL</td>\n",
              "      <td>60.0</td>\n",
              "      <td>10930</td>\n",
              "      <td>Pave</td>\n",
              "      <td>Grvl</td>\n",
              "      <td>Reg</td>\n",
              "      <td>Bnk</td>\n",
              "      <td>AllPub</td>\n",
              "      <td>...</td>\n",
              "      <td>0</td>\n",
              "      <td>NaN</td>\n",
              "      <td>NaN</td>\n",
              "      <td>NaN</td>\n",
              "      <td>0</td>\n",
              "      <td>4</td>\n",
              "      <td>2008</td>\n",
              "      <td>WD</td>\n",
              "      <td>Normal</td>\n",
              "      <td>140000</td>\n",
              "    </tr>\n",
              "    <tr>\n",
              "      <th>1432</th>\n",
              "      <td>1433</td>\n",
              "      <td>30</td>\n",
              "      <td>RL</td>\n",
              "      <td>60.0</td>\n",
              "      <td>10800</td>\n",
              "      <td>Pave</td>\n",
              "      <td>Grvl</td>\n",
              "      <td>Reg</td>\n",
              "      <td>Lvl</td>\n",
              "      <td>AllPub</td>\n",
              "      <td>...</td>\n",
              "      <td>0</td>\n",
              "      <td>NaN</td>\n",
              "      <td>NaN</td>\n",
              "      <td>NaN</td>\n",
              "      <td>0</td>\n",
              "      <td>8</td>\n",
              "      <td>2007</td>\n",
              "      <td>WD</td>\n",
              "      <td>Normal</td>\n",
              "      <td>64500</td>\n",
              "    </tr>\n",
              "    <tr>\n",
              "      <th>1454</th>\n",
              "      <td>1455</td>\n",
              "      <td>20</td>\n",
              "      <td>FV</td>\n",
              "      <td>62.0</td>\n",
              "      <td>7500</td>\n",
              "      <td>Pave</td>\n",
              "      <td>Pave</td>\n",
              "      <td>Reg</td>\n",
              "      <td>Lvl</td>\n",
              "      <td>AllPub</td>\n",
              "      <td>...</td>\n",
              "      <td>0</td>\n",
              "      <td>NaN</td>\n",
              "      <td>NaN</td>\n",
              "      <td>NaN</td>\n",
              "      <td>0</td>\n",
              "      <td>10</td>\n",
              "      <td>2009</td>\n",
              "      <td>WD</td>\n",
              "      <td>Normal</td>\n",
              "      <td>185000</td>\n",
              "    </tr>\n",
              "  </tbody>\n",
              "</table>\n",
              "<p>91 rows × 81 columns</p>\n",
              "</div>\n",
              "      <button class=\"colab-df-convert\" onclick=\"convertToInteractive('df-6a09cc44-4192-4c89-94ee-2e85bee57899')\"\n",
              "              title=\"Convert this dataframe to an interactive table.\"\n",
              "              style=\"display:none;\">\n",
              "        \n",
              "  <svg xmlns=\"http://www.w3.org/2000/svg\" height=\"24px\"viewBox=\"0 0 24 24\"\n",
              "       width=\"24px\">\n",
              "    <path d=\"M0 0h24v24H0V0z\" fill=\"none\"/>\n",
              "    <path d=\"M18.56 5.44l.94 2.06.94-2.06 2.06-.94-2.06-.94-.94-2.06-.94 2.06-2.06.94zm-11 1L8.5 8.5l.94-2.06 2.06-.94-2.06-.94L8.5 2.5l-.94 2.06-2.06.94zm10 10l.94 2.06.94-2.06 2.06-.94-2.06-.94-.94-2.06-.94 2.06-2.06.94z\"/><path d=\"M17.41 7.96l-1.37-1.37c-.4-.4-.92-.59-1.43-.59-.52 0-1.04.2-1.43.59L10.3 9.45l-7.72 7.72c-.78.78-.78 2.05 0 2.83L4 21.41c.39.39.9.59 1.41.59.51 0 1.02-.2 1.41-.59l7.78-7.78 2.81-2.81c.8-.78.8-2.07 0-2.86zM5.41 20L4 18.59l7.72-7.72 1.47 1.35L5.41 20z\"/>\n",
              "  </svg>\n",
              "      </button>\n",
              "      \n",
              "  <style>\n",
              "    .colab-df-container {\n",
              "      display:flex;\n",
              "      flex-wrap:wrap;\n",
              "      gap: 12px;\n",
              "    }\n",
              "\n",
              "    .colab-df-convert {\n",
              "      background-color: #E8F0FE;\n",
              "      border: none;\n",
              "      border-radius: 50%;\n",
              "      cursor: pointer;\n",
              "      display: none;\n",
              "      fill: #1967D2;\n",
              "      height: 32px;\n",
              "      padding: 0 0 0 0;\n",
              "      width: 32px;\n",
              "    }\n",
              "\n",
              "    .colab-df-convert:hover {\n",
              "      background-color: #E2EBFA;\n",
              "      box-shadow: 0px 1px 2px rgba(60, 64, 67, 0.3), 0px 1px 3px 1px rgba(60, 64, 67, 0.15);\n",
              "      fill: #174EA6;\n",
              "    }\n",
              "\n",
              "    [theme=dark] .colab-df-convert {\n",
              "      background-color: #3B4455;\n",
              "      fill: #D2E3FC;\n",
              "    }\n",
              "\n",
              "    [theme=dark] .colab-df-convert:hover {\n",
              "      background-color: #434B5C;\n",
              "      box-shadow: 0px 1px 3px 1px rgba(0, 0, 0, 0.15);\n",
              "      filter: drop-shadow(0px 1px 2px rgba(0, 0, 0, 0.3));\n",
              "      fill: #FFFFFF;\n",
              "    }\n",
              "  </style>\n",
              "\n",
              "      <script>\n",
              "        const buttonEl =\n",
              "          document.querySelector('#df-6a09cc44-4192-4c89-94ee-2e85bee57899 button.colab-df-convert');\n",
              "        buttonEl.style.display =\n",
              "          google.colab.kernel.accessAllowed ? 'block' : 'none';\n",
              "\n",
              "        async function convertToInteractive(key) {\n",
              "          const element = document.querySelector('#df-6a09cc44-4192-4c89-94ee-2e85bee57899');\n",
              "          const dataTable =\n",
              "            await google.colab.kernel.invokeFunction('convertToInteractive',\n",
              "                                                     [key], {});\n",
              "          if (!dataTable) return;\n",
              "\n",
              "          const docLinkHtml = 'Like what you see? Visit the ' +\n",
              "            '<a target=\"_blank\" href=https://colab.research.google.com/notebooks/data_table.ipynb>data table notebook</a>'\n",
              "            + ' to learn more about interactive tables.';\n",
              "          element.innerHTML = '';\n",
              "          dataTable['output_type'] = 'display_data';\n",
              "          await google.colab.output.renderOutput(dataTable, element);\n",
              "          const docLink = document.createElement('div');\n",
              "          docLink.innerHTML = docLinkHtml;\n",
              "          element.appendChild(docLink);\n",
              "        }\n",
              "      </script>\n",
              "    </div>\n",
              "  </div>\n",
              "  "
            ]
          },
          "metadata": {},
          "execution_count": 6
        }
      ]
    },
    {
      "cell_type": "markdown",
      "source": [
        "**les types de variables**\n",
        "\n",
        "les variables quantitatives =>\n",
        "\n",
        "      => continue (float) : LotFrontage , ...\n",
        "      => discrete (int) : MSSubClass , LotArea, PoolArea, Miscval,Mosold, ...\n",
        "les variables qualitatives =>\n",
        "\n",
        "      =>nominale :MSZoning, Street,LotShap, LandContour,Utilities\n",
        "      =>ordinale\n",
        "      =>binaire ( exemple : homme / femme , oui / non, ..)"
      ],
      "metadata": {
        "id": "7jv41g3ZGkxg"
      }
    },
    {
      "cell_type": "markdown",
      "source": [
        "**3) créer un nuage de points**\n"
      ],
      "metadata": {
        "id": "DlY-TUobBIrS"
      }
    },
    {
      "cell_type": "code",
      "source": [
        "\n",
        "sb.relplot(\n",
        "    x=house_pricing.SalePrice, y=house_pricing.LotArea\n",
        ")"
      ],
      "metadata": {
        "colab": {
          "base_uri": "https://localhost:8080/",
          "height": 382
        },
        "id": "Zp-SAPo9LNUy",
        "outputId": "f4cb84b8-13e6-4547-82da-f22aa1c514b6"
      },
      "execution_count": null,
      "outputs": [
        {
          "output_type": "execute_result",
          "data": {
            "text/plain": [
              "<seaborn.axisgrid.FacetGrid at 0x7fb96dd3bd50>"
            ]
          },
          "metadata": {},
          "execution_count": 66
        },
        {
          "output_type": "display_data",
          "data": {
            "text/plain": [
              "<Figure size 360x360 with 1 Axes>"
            ],
            "image/png": "[encoded data removed]"
          },
          "metadata": {}
        }
      ]
    },
    {
      "cell_type": "markdown",
      "source": [
        "SalePrice est une variable discrete\n"
      ],
      "metadata": {
        "id": "I5yEX9IOSCTX"
      }
    },
    {
      "cell_type": "markdown",
      "source": [
        "**4) Affinez votre visualisation en ne gardant uniquement les maisons qui ont un LotArea inférieur à 20 000 pieds carrés et un prix inférieur à 500 000$ **\n"
      ],
      "metadata": {
        "id": "3LPRvRtAWMMF"
      }
    },
    {
      "cell_type": "code",
      "source": [
        "\n",
        "A=house_pricing[(house_pricing.LotArea < 20000) & (house_pricing.SalePrice < 500000)]\n",
        "house_pricing.loc[:,['LotArea','SalePrice']]\n",
        "sb.relplot(\n",
        "    x=A.SalePrice, y=A.LotArea\n",
        ")\n",
        "\n"
      ],
      "metadata": {
        "colab": {
          "base_uri": "https://localhost:8080/",
          "height": 386
        },
        "id": "x9sDEpf-WOn1",
        "outputId": "949b3252-21c3-4ce4-d4ab-ed563ba20b56"
      },
      "execution_count": 16,
      "outputs": [
        {
          "output_type": "execute_result",
          "data": {
            "text/plain": [
              "<seaborn.axisgrid.FacetGrid at 0x7f50180e1210>"
            ]
          },
          "metadata": {},
          "execution_count": 16
        },
        {
          "output_type": "display_data",
          "data": {
            "text/plain": [
              "<Figure size 360x360 with 1 Axes>"
            ],
            "image/png": "[encoded data removed]"
          },
          "metadata": {
            "needs_background": "light"
          }
        }
      ]
    },
    {
      "cell_type": "markdown",
      "source": [
        "**5) En créant un nuage de points, regardez la relation entre le LotFrontage et le LotArea**\n",
        "\n"
      ],
      "metadata": {
        "id": "j-RzQVnxZnhZ"
      }
    },
    {
      "cell_type": "code",
      "source": [
        "sb.relplot(\n",
        "    x=house_pricing.LotFrontage, y=house_pricing.LotArea\n",
        ")"
      ],
      "metadata": {
        "colab": {
          "base_uri": "https://localhost:8080/",
          "height": 386
        },
        "id": "L4a0h0FxZu6d",
        "outputId": "a7707a71-1f67-4883-c23e-4d446026d8c0"
      },
      "execution_count": null,
      "outputs": [
        {
          "output_type": "execute_result",
          "data": {
            "text/plain": [
              "<seaborn.axisgrid.FacetGrid at 0x7febacfe56d0>"
            ]
          },
          "metadata": {},
          "execution_count": 14
        },
        {
          "output_type": "display_data",
          "data": {
            "text/plain": [
              "<Figure size 360x360 with 1 Axes>"
            ],
            "image/png": "[encoded data removed]"
          },
          "metadata": {
            "needs_background": "light"
          }
        }
      ]
    },
    {
      "cell_type": "markdown",
      "source": [
        "**6) De la même manière, affinez votre visualisation en ne gardant uniquement les maisons qui ont un LotFrontage inférieur à 200 pieds carrés et un LotArea inférieur à 100000 pieds carré**\n",
        "\n"
      ],
      "metadata": {
        "id": "HbnPveOyaJ_Q"
      }
    },
    {
      "cell_type": "code",
      "source": [
        "B=house_pricing[(house_pricing.LotArea <  100000 ) & (house_pricing.LotFrontage < 200)]\n",
        "\n",
        "house_pricing.loc[:,['LotArea','LotFrontage']]\n",
        "\n",
        "sb.relplot(\n",
        "    x=B.LotFrontage, y=B.LotArea\n",
        ")\n"
      ],
      "metadata": {
        "colab": {
          "base_uri": "https://localhost:8080/",
          "height": 386
        },
        "id": "L5vj3hBqaTlw",
        "outputId": "4f1b6675-c301-425a-e192-9cc7da247e7d"
      },
      "execution_count": 17,
      "outputs": [
        {
          "output_type": "execute_result",
          "data": {
            "text/plain": [
              "<seaborn.axisgrid.FacetGrid at 0x7f5018148150>"
            ]
          },
          "metadata": {},
          "execution_count": 17
        },
        {
          "output_type": "display_data",
          "data": {
            "text/plain": [
              "<Figure size 360x360 with 1 Axes>"
            ],
            "image/png": "[encoded data removed]"
          },
          "metadata": {
            "needs_background": "light"
          }
        }
      ]
    },
    {
      "cell_type": "markdown",
      "source": [
        "** 2 : Visualisation de variables catégoriques**\n"
      ],
      "metadata": {
        "id": "SQNM2sWIya0R"
      }
    },
    {
      "cell_type": "code",
      "source": [],
      "metadata": {
        "id": "MFPDV4K9yukI"
      },
      "execution_count": null,
      "outputs": []
    }
  ]
}
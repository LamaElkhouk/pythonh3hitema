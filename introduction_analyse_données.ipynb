{
  "nbformat": 4,
  "nbformat_minor": 0,
  "metadata": {
    "colab": {
      "provenance": [],
      "collapsed_sections": [],
      "authorship_tag": "ABX9TyM85Y90Lipz4oTAfRm/7bI8",
      "include_colab_link": true
    },
    "kernelspec": {
      "name": "python3",
      "display_name": "Python 3"
    },
    "language_info": {
      "name": "python"
    }
  },
  "cells": [
    {
      "cell_type": "markdown",
      "metadata": {
        "id": "view-in-github",
        "colab_type": "text"
      },
      "source": [
        "<a href=\"https://colab.research.google.com/github/LamaElkhouk/pythonh3hitema/blob/main/introduction_analyse_donn%C3%A9es.ipynb\" target=\"_parent\"><img src=\"https://colab.research.google.com/assets/colab-badge.svg\" alt=\"Open In Colab\"/></a>"
      ]
    },
    {
      "cell_type": "code",
      "execution_count": 7,
      "metadata": {
        "colab": {
          "base_uri": "https://localhost:8080/"
        },
        "id": "C8AtNE_SpqYM",
        "outputId": "57ad1407-ecdf-4d12-f357-34fee748784f"
      },
      "outputs": [
        {
          "output_type": "stream",
          "name": "stdout",
          "text": [
            "sample_data\n",
            "/content\n",
            "seaborn                       0.11.2\n"
          ]
        }
      ],
      "source": [
        "#colab est une machine distante\n",
        "!ls\n",
        "\n",
        "!pwd\n",
        "\n",
        "!pip list | grep seaborn  #pour s'assurer que la librairie existe deja\n",
        "\n",
        "# on utilise ! avant chaque commande pour utiliser du bash, la commande interprete du bash\n"
      ]
    },
    {
      "cell_type": "markdown",
      "source": [
        "**Introduction**\n"
      ],
      "metadata": {
        "id": "dBkB9O3NrEmv"
      }
    },
    {
      "cell_type": "code",
      "source": [
        "#charger les librairies\n",
        "\n",
        "import pandas as pd\n",
        "import numpy as np\n",
        "import seaborn as sb\n",
        "\n",
        "\n",
        "#revisions\n",
        "tab = []\n",
        "\n",
        "for i in range(10):\n",
        "  tab.append(10)\n",
        "tab\n",
        "\n",
        "\n",
        "tab2=[x for x in range(10)] \n",
        "tab2\n",
        "\n",
        "tab3=[[ x for x in range(10)] for y in range(10)]  #tableau en deux dimension\n",
        "tab3\n",
        "\n",
        "#inconvenient\n",
        "#recuperer une colonne on itere sur les lignes et numpy resou ce probleme et fonctionne avec des array()\n",
        "\n",
        "ar = np.array(tab)\n"
      ],
      "metadata": {
        "colab": {
          "base_uri": "https://localhost:8080/"
        },
        "id": "pFRuG9XTrLG4",
        "outputId": "cf6fe683-10fa-443b-a848-889a28d74e7d"
      },
      "execution_count": 9,
      "outputs": [
        {
          "output_type": "execute_result",
          "data": {
            "text/plain": [
              "[[0, 1, 2, 3, 4, 5, 6, 7, 8, 9],\n",
              " [0, 1, 2, 3, 4, 5, 6, 7, 8, 9],\n",
              " [0, 1, 2, 3, 4, 5, 6, 7, 8, 9],\n",
              " [0, 1, 2, 3, 4, 5, 6, 7, 8, 9],\n",
              " [0, 1, 2, 3, 4, 5, 6, 7, 8, 9],\n",
              " [0, 1, 2, 3, 4, 5, 6, 7, 8, 9],\n",
              " [0, 1, 2, 3, 4, 5, 6, 7, 8, 9],\n",
              " [0, 1, 2, 3, 4, 5, 6, 7, 8, 9],\n",
              " [0, 1, 2, 3, 4, 5, 6, 7, 8, 9],\n",
              " [0, 1, 2, 3, 4, 5, 6, 7, 8, 9]]"
            ]
          },
          "metadata": {},
          "execution_count": 9
        }
      ]
    },
    {
      "cell_type": "markdown",
      "source": [],
      "metadata": {
        "id": "YLGc6CG9xBiQ"
      }
    }
  ]
}
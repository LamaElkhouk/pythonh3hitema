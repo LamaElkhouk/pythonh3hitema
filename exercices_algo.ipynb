{
  "nbformat": 4,
  "nbformat_minor": 0,
  "metadata": {
    "colab": {
      "provenance": [],
      "collapsed_sections": [],
      "authorship_tag": "ABX9TyOGRtzpizt9337kcak5zePh",
      "include_colab_link": true
    },
    "kernelspec": {
      "name": "python3",
      "display_name": "Python 3"
    },
    "language_info": {
      "name": "python"
    }
  },
  "cells": [
    {
      "cell_type": "markdown",
      "metadata": {
        "id": "view-in-github",
        "colab_type": "text"
      },
      "source": [
        "<a href=\"https://colab.research.google.com/github/LamaElkhouk/pythonh3hitema/blob/main/exercices_algo.ipynb\" target=\"_parent\"><img src=\"https://colab.research.google.com/assets/colab-badge.svg\" alt=\"Open In Colab\"/></a>"
      ]
    },
    {
      "cell_type": "markdown",
      "source": [
        "**Exercices d’algorithmique**\n",
        "**texte en gras**\n",
        "\n",
        "**2.1 Condition et produit**\n",
        "\n",
        "Ecrire un algorithme qui demande deux nombres `a l’utilisateur et l’informe en\n",
        "suite si leur produit est n´egatif ou positif (on laisse de cˆot´e le cas o`u le produit\n",
        "est nul). Attention toute fois : on ne doit pas calculer le produit des deux\n",
        "nombres\n"
      ],
      "metadata": {
        "id": "Qo77YqLE3aGY"
      }
    },
    {
      "cell_type": "code",
      "source": [
        "def produit():\n",
        "    X1 = input(\"Veuillez entrez un premier nombre :\")\n",
        "    X2 = input(\"Veuillez entrez un deuxieme nombre : \")  \n",
        "    prod=int(X1)*int(X2)\n",
        "\n",
        "    if((int(X1)<0 and int(X2)>0)or(int(X1)>0 and int(X2)<0)):\n",
        "        print(\"la valeur des produit des deux nombres est negatif :\"+str(prod))\n",
        "    else:\n",
        "        print(\"la valeur des produit des deux nombres est positif :\"+str(prod))\n",
        "\n",
        "#application\n",
        "\n",
        "produit()"
      ],
      "metadata": {
        "colab": {
          "base_uri": "https://localhost:8080/"
        },
        "id": "4YrmE2pF40fz",
        "outputId": "5c591a77-2b78-44ea-f434-9a8ac40f12cb"
      },
      "execution_count": 3,
      "outputs": [
        {
          "output_type": "stream",
          "name": "stdout",
          "text": [
            "Veuillez entrez un premier nombre :-8\n",
            "Veuillez entrez un deuxieme nombre : 3\n",
            "la valeur des produit des deux nombres est negatif :-24\n"
          ]
        }
      ]
    },
    {
      "cell_type": "markdown",
      "source": [
        "**2.2 Additivté**\n",
        "\n",
        "Ecrire un algorithme qui demande un nombre de d´epart, et qui calcule la somme\n",
        "des entiers jusqu’`a ce nombre. Par exemple, si l’on entre 5, le programme doit\n",
        "calculer : 1 + 2 + 3 + 4 + 5 = 15.\n"
      ],
      "metadata": {
        "id": "jQt-ZrLE5HJ_"
      }
    },
    {
      "cell_type": "code",
      "source": [
        "def somme():\n",
        "    X1 = input(\"Veuillez entrez un nombre :\")\n",
        "    compteur=0\n",
        "    tab=[]\n",
        "\n",
        "    for i in range(0,int(X1)+1):\n",
        "        compteur+=i\n",
        "        tab.append(i)\n",
        "    print(\"les nombres additionnés :\"+str(tab)+\" , resultat :\"+str(compteur))\n",
        "#application\n",
        "somme()\n"
      ],
      "metadata": {
        "colab": {
          "base_uri": "https://localhost:8080/"
        },
        "id": "pURHHskJ5cWY",
        "outputId": "51c7fe93-9b88-4ff4-e9cd-e04ba72b75a4"
      },
      "execution_count": 8,
      "outputs": [
        {
          "output_type": "stream",
          "name": "stdout",
          "text": [
            "Veuillez entrez un nombre :5\n",
            "les nombres additionnés :[0, 1, 2, 3, 4, 5] , resultat :15\n"
          ]
        }
      ]
    }
  ]
}
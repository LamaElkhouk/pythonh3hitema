{
  "nbformat": 4,
  "nbformat_minor": 0,
  "metadata": {
    "colab": {
      "provenance": [],
      "collapsed_sections": [],
      "authorship_tag": "ABX9TyP7wxYGjDwlGki9cKb0QR/u",
      "include_colab_link": true
    },
    "kernelspec": {
      "name": "python3",
      "display_name": "Python 3"
    },
    "language_info": {
      "name": "python"
    }
  },
  "cells": [
    {
      "cell_type": "markdown",
      "metadata": {
        "id": "view-in-github",
        "colab_type": "text"
      },
      "source": [
        "<a href=\"https://colab.research.google.com/github/LamaElkhouk/pythonh3hitema/blob/main/exercices_algo.ipynb\" target=\"_parent\"><img src=\"https://colab.research.google.com/assets/colab-badge.svg\" alt=\"Open In Colab\"/></a>"
      ]
    },
    {
      "cell_type": "markdown",
      "source": [
        "**Exercices d’algorithmique**\n",
        "**texte en gras**\n",
        "\n",
        "**2.1 Condition et produit**\n",
        "\n",
        "Ecrire un algorithme qui demande deux nombres `a l’utilisateur et l’informe en\n",
        "suite si leur produit est n´egatif ou positif (on laisse de cˆot´e le cas o`u le produit\n",
        "est nul). Attention toute fois : on ne doit pas calculer le produit des deux\n",
        "nombres\n"
      ],
      "metadata": {
        "id": "Qo77YqLE3aGY"
      }
    },
    {
      "cell_type": "code",
      "source": [
        "def produit():\n",
        "    X1 = input(\"Veuillez entrez un premier nombre :\")\n",
        "    X2 = input(\"Veuillez entrez un deuxieme nombre : \")  \n",
        "    prod=int(X1)*int(X2)\n",
        "\n",
        "    if((int(X1)<0 and int(X2)>0)or(int(X1)>0 and int(X2)<0)):\n",
        "        print(\"la valeur des produit des deux nombres est negatif :\"+str(prod))\n",
        "    else:\n",
        "        print(\"la valeur des produit des deux nombres est positif :\"+str(prod))\n",
        "\n",
        "#application\n",
        "\n",
        "produit()"
      ],
      "metadata": {
        "colab": {
          "base_uri": "https://localhost:8080/"
        },
        "id": "4YrmE2pF40fz",
        "outputId": "67fdd298-e02e-4422-da96-f5e5d228e007"
      },
      "execution_count": null,
      "outputs": [
        {
          "output_type": "stream",
          "name": "stdout",
          "text": [
            "Veuillez entrez un premier nombre :2\n",
            "Veuillez entrez un deuxieme nombre : -3\n",
            "la valeur des produit des deux nombres est negatif :-6\n"
          ]
        }
      ]
    },
    {
      "cell_type": "markdown",
      "source": [
        "**pseudo code associé**\n",
        "\n",
        "algorithme: addition jusqu'au nombre demandé\n",
        "\n",
        "variables:\n",
        "\n",
        "          X1=entier\n",
        "          X2=entier\n",
        "          prod= formule, entier\n",
        "\n",
        "début:\n",
        "\n",
        "          afficher :\"Veuillez entrez un premier nombre :\"\n",
        "          afficher :\"Veuillez entrez un deuxieme nombre \"\n",
        "          saisir X1\n",
        "          saisir X2\n",
        "          SI ((X1<0 ET X2>0) OU (X1>0 ET X2<0))\n",
        "              afficher \"la valeur des produit des deux nombres est negatif :prod \"\n",
        "          SINON\n",
        "              afficher \"la valeur des produit des deux nombres est positif :prod\"\n",
        "          FINSI\n",
        "          FIN\n",
        "\n",
        "          "
      ],
      "metadata": {
        "id": "wWqi0sbp75rA"
      }
    },
    {
      "cell_type": "markdown",
      "source": [
        "**2.2 Additivté**\n",
        "\n",
        "Ecrire un algorithme qui demande un nombre de d´epart, et qui calcule la somme\n",
        "des entiers jusqu’`a ce nombre. Par exemple, si l’on entre 5, le programme doit\n",
        "calculer : 1 + 2 + 3 + 4 + 5 = 15.\n"
      ],
      "metadata": {
        "id": "jQt-ZrLE5HJ_"
      }
    },
    {
      "cell_type": "code",
      "source": [
        "def somme():\n",
        "    X1 = input(\"Veuillez entrez un nombre :\")\n",
        "    compteur=0\n",
        "    tab=[]\n",
        "\n",
        "    for i in range(0,int(X1)+1):\n",
        "        compteur+=i\n",
        "        tab.append(i)\n",
        "    print(\"les nombres additionnés :\"+str(tab)+\" , resultat :\"+str(compteur))\n",
        "#application\n",
        "somme()\n"
      ],
      "metadata": {
        "colab": {
          "base_uri": "https://localhost:8080/"
        },
        "id": "pURHHskJ5cWY",
        "outputId": "51c7fe93-9b88-4ff4-e9cd-e04ba72b75a4"
      },
      "execution_count": null,
      "outputs": [
        {
          "output_type": "stream",
          "name": "stdout",
          "text": [
            "Veuillez entrez un nombre :5\n",
            "les nombres additionnés :[0, 1, 2, 3, 4, 5] , resultat :15\n"
          ]
        }
      ]
    },
    {
      "cell_type": "markdown",
      "source": [
        "**pseudo code associé**\n",
        "\n",
        "algorithme: addition jusqu'au nombre demandé\n",
        "\n",
        "variables:\n",
        "\n",
        "          X1=entier\n",
        "          compteur=entier initialiser a 0\n",
        "          tab= tableau d'entier initialiser a vide\n",
        "          \n",
        "\n",
        "début:\n",
        "\n",
        "          afficher :\"Veuillez entrez un nombre :\"\n",
        "          saisir X1\n",
        "\n",
        "          POUR compteur allant de 0 à X1+1\n",
        "              ajouter au compteur les valeur de 0 à X1+1\n",
        "              ajouter au tableau vide \"tab\" les valeurs qui vont s'additionné\n",
        "              afficher \"les nombres additionnés : tab, resultat : compteur\"\n",
        "          FINPOUR\n",
        "          FIN\n",
        "\n",
        "complexité : O(n)\n",
        "              \n",
        "\n"
      ],
      "metadata": {
        "id": "UZROLVKh-gtN"
      }
    },
    {
      "cell_type": "markdown",
      "source": [
        "**2.3 Somme des elements d’un tableau**\n",
        "\n",
        "Ecrire un algorithme calculant la somme des valeurs d’un tableau (on suppose\n",
        "bien sur que le tableau a ete prealablement saisi).\n",
        "\n"
      ],
      "metadata": {
        "id": "ZxOk20E7CrOR"
      }
    },
    {
      "cell_type": "code",
      "source": [
        "def sommeT(T):\n",
        "    val=0\n",
        "    for el in T:\n",
        "        val+=el\n",
        "    print(val)\n",
        "\n",
        "#application\n",
        "sommeT([2,0,1,4])"
      ],
      "metadata": {
        "colab": {
          "base_uri": "https://localhost:8080/"
        },
        "id": "CEz-eaVzDHgT",
        "outputId": "db4c7aea-0af0-4e57-fb44-b6bb1c48836a"
      },
      "execution_count": null,
      "outputs": [
        {
          "output_type": "stream",
          "name": "stdout",
          "text": [
            "7\n"
          ]
        }
      ]
    },
    {
      "cell_type": "markdown",
      "source": [
        "**pseudo code associé**\n",
        "\n",
        "algorithme: addition toutes les valeurs du tableau\n",
        "\n",
        "variables:\n",
        "\n",
        "          val=entier initialiser à 0\n",
        "début:\n",
        "\n",
        "          POUR el dans T\n",
        "              additionné au compteur val les valeurs el de T\n",
        "              afficher le resultat de val\n",
        "          FINPOUR\n",
        "          FIN\n",
        "    \n",
        "complexité: O(n)\n",
        "---\n",
        "\n"
      ],
      "metadata": {
        "id": "tU0FgbiwFWVu"
      }
    },
    {
      "cell_type": "markdown",
      "source": [
        "**2.4 FacProduct**\n",
        "\n",
        "Toujours `a partir de deux tableaux pr´ec´edemment saisis, ´ecrire un algorithme\n",
        "qui calcule le ’FacProduct’ des deux tableaux. Pour calculer le ’FacProduct’, il\n",
        "faut multiplier deux `a deux les ´el´ements des tableaux et additionner le tout (le\n",
        "resultat final doit donc est un reel).\n"
      ],
      "metadata": {
        "id": "TkdUVT_WHA1Z"
      }
    },
    {
      "cell_type": "code",
      "source": [
        "def somme2T(T1,T2):\n",
        "    res=0\n",
        "    for i in range(len(T1)):\n",
        "        for j in range(len(T2)):\n",
        "            res+=T1[i]*T2[j]\n",
        "    print(res)\n",
        "#application\n",
        "somme2T([0,1],[1,1,1])"
      ],
      "metadata": {
        "colab": {
          "base_uri": "https://localhost:8080/"
        },
        "id": "FxJxwWxmHS5h",
        "outputId": "1ddab26e-121d-43c1-f08a-56c5abb61899"
      },
      "execution_count": null,
      "outputs": [
        {
          "output_type": "stream",
          "name": "stdout",
          "text": [
            "3\n"
          ]
        }
      ]
    },
    {
      "cell_type": "markdown",
      "source": [
        "**pseudo code associé**\n",
        "\n",
        "algorithme: multiplier et additionner deux à deux les toutes les elements des deux tableaux\n",
        "\n",
        "variables:\n",
        "\n",
        "          res=entier initialiser à 0\n",
        "début:\n",
        "\n",
        "          POUR i allant jusqu'a la fin du T1\n",
        "              POUR j allant jusqu'a la fin du T2\n",
        "                  additionné et multiplier les elements deux a deux et les stocker dans res\n",
        "              FINPOUR\n",
        "          FINPOUR\n",
        "          FIN\n",
        "    \n",
        "complexité: O(n * m)  car la taille des deux tableaux ne sont pas de la meme taille , O(n^2) si ils sont de la meme taille"
      ],
      "metadata": {
        "id": "qFiG6o63H_Ai"
      }
    },
    {
      "cell_type": "markdown",
      "source": [
        "**2.5 Le plus grand**\n",
        "\n",
        "Ecrire un algorithme permettant `a l’utilisateur de renvoyer la plus grande valeur\n",
        "du tableau passer en input en pr´ecisant quelle position elle occupe dans le\n",
        "tableau."
      ],
      "metadata": {
        "id": "l-s4HjJrJbDj"
      }
    },
    {
      "cell_type": "code",
      "source": [
        "def max(T1):\n",
        "    valmax=T1[0]\n",
        "\n",
        "    for num in T1:\n",
        "        if(num > valmax):\n",
        "            valmax = num\n",
        "    print(\"valeur max : \"+str(valmax)+ \" a la position \" + str(T1.index(valmax)))\n",
        "#application\n",
        "\n",
        "max([1,9,2,3])\n"
      ],
      "metadata": {
        "colab": {
          "base_uri": "https://localhost:8080/"
        },
        "id": "JGxTlu0oKDdP",
        "outputId": "15873f9b-a142-4b09-ed6b-4c51dfaa09fa"
      },
      "execution_count": null,
      "outputs": [
        {
          "output_type": "stream",
          "name": "stdout",
          "text": [
            "valeur max : 9 a la position 1\n"
          ]
        }
      ]
    },
    {
      "cell_type": "markdown",
      "source": [
        "**pseudo code associé**\n",
        "\n",
        "algorithme: retourne la valeur max d'un tableau en precisant sa position\n",
        "\n",
        "variables:\n",
        "\n",
        "          valmax=entier, premiere element du tableau\n",
        "début:\n",
        "\n",
        "          POUR num allant dans T1\n",
        "              SI num > valmax\n",
        "                  afficher \" valeur max : valmax à la position i de valmax\"\n",
        "              FINPOUR\n",
        "          FINPOUR\n",
        "          FIN\n",
        "    \n",
        "complexité: "
      ],
      "metadata": {
        "id": "OgXpZzXxLSmA"
      }
    },
    {
      "cell_type": "markdown",
      "source": [
        "**2.6 Plus grand que la moyenne**\n",
        "\n",
        "Ecrire un algorithme permettant `a l’utilisateur de renvoyer le nombre de valeur\n",
        "sup´erieures `a la moyenne d’un tableau pass´e en input de taille n."
      ],
      "metadata": {
        "id": "LJpQeka_Mn3O"
      }
    },
    {
      "cell_type": "code",
      "source": [
        "def plusgrandquemoyenne():\n",
        "    T1=[1,5,2,9]\n",
        "    T2=[]\n",
        "    cpt=0\n",
        "    \n",
        "    for num in T1:\n",
        "        cpt+=num\n",
        "    print(\"la moyenne : \"+str(cpt/len(T1)))\n",
        "\n",
        "    for num in T1:\n",
        "        if(num>cpt/len(T1)):\n",
        "            T2.append(num)\n",
        "\n",
        "    print(\"on a \"+ str(len(T2))+\" nombres superieur a la moyenne \")\n",
        "   \n",
        "\n",
        "plusgrandquemoyenne()"
      ],
      "metadata": {
        "colab": {
          "base_uri": "https://localhost:8080/"
        },
        "id": "-RdtO-78M97b",
        "outputId": "f21b7def-99bb-43f6-e9bb-3dc608313d66"
      },
      "execution_count": null,
      "outputs": [
        {
          "output_type": "stream",
          "name": "stdout",
          "text": [
            "la moyenne : 4.25\n",
            "on a 2 nombres superieur a la moyenne \n"
          ]
        }
      ]
    },
    {
      "cell_type": "markdown",
      "source": [
        "complexité : O(n^2)\n"
      ],
      "metadata": {
        "id": "VWDAZOKhUmNf"
      }
    },
    {
      "cell_type": "markdown",
      "source": [
        "**2.7 Multiplier des vecteurs**\n",
        "\n",
        "Ecrire un algorithme permettant d’effectuer la multiplication de deux vecteurs\n",
        "de taille N connue `a l’avance et d’afficher le r´esultat."
      ],
      "metadata": {
        "id": "L1fRnawcUen7"
      }
    },
    {
      "cell_type": "code",
      "source": [
        "u=(1,2)    #u.v=0+2=2\n",
        "v=(0,1)\n",
        "\n",
        "def multipliervecteur(u,v):\n",
        "  L=[]\n",
        "  res=[]\n",
        "\n",
        "  L.append(u)\n",
        "  L.append(v)\n",
        "\n",
        "  for el in L:\n",
        "    res=(L[0][0]*L[0][1])+(L[1][0]*L[1][1])\n",
        "\n",
        "  print(res)\n",
        "\n",
        "multipliervecteur(u,v)\n",
        "\n",
        "\n",
        "\n"
      ],
      "metadata": {
        "colab": {
          "base_uri": "https://localhost:8080/"
        },
        "id": "b_o9HfDJYMxO",
        "outputId": "0924081a-e346-4981-8afd-7435bec6a9ca"
      },
      "execution_count": null,
      "outputs": [
        {
          "output_type": "stream",
          "name": "stdout",
          "text": [
            "2\n"
          ]
        }
      ]
    },
    {
      "cell_type": "markdown",
      "source": [
        "complexité : O(n)\n"
      ],
      "metadata": {
        "id": "W5THDiX7EhhK"
      }
    },
    {
      "cell_type": "markdown",
      "source": [
        "**2.8 Tris**\n",
        "\n",
        "Ecrire un algorithme permettant de trier un tableau de taille ´ n.\n"
      ],
      "metadata": {
        "id": "OLjKN3LMEm3B"
      }
    },
    {
      "cell_type": "code",
      "source": [
        "T=[2,1,9,3,7,1,4,8]\n",
        "def trier(T):\n",
        "  for i in range(len(T)-1):\n",
        "    swap=False\n",
        "    for j in range(len(T)-i-1):\n",
        "      if(T[j]>T[j+1]):\n",
        "        swap=True\n",
        "        temp=T[j]\n",
        "        T[j]=T[j+1]\n",
        "        T[j+1]=temp\n",
        "      \n",
        "  print(T)\n",
        "  \n",
        "#application\n",
        "\n",
        "trier(T)\n",
        "    "
      ],
      "metadata": {
        "colab": {
          "base_uri": "https://localhost:8080/"
        },
        "id": "mFWZzlOuEzpx",
        "outputId": "0a6512b1-2a7c-4613-9e40-79648fc2b87f"
      },
      "execution_count": null,
      "outputs": [
        {
          "output_type": "stream",
          "name": "stdout",
          "text": [
            "[1, 1, 2, 3, 4, 7, 8, 9]\n"
          ]
        }
      ]
    },
    {
      "cell_type": "markdown",
      "source": [
        "complexité : O(n^2)\n"
      ],
      "metadata": {
        "id": "T9phWI0Z4Trd"
      }
    },
    {
      "cell_type": "markdown",
      "source": [
        "**2.9 Factorielle**\n",
        "\n",
        "Ecrire un algorithme qui demande un nombre de d´epart, et qui calcule sa\n",
        "factorielle. On rappel qu’on calcul factorielle n tel que : n! = Q\n",
        "1in i =\n",
        "1 × 2 × 3 × . . . × (n − 1) × n.. Par exemple 4! = 1 × 2 × 3 × 4.\n"
      ],
      "metadata": {
        "id": "SG8ywIp94w4w"
      }
    },
    {
      "cell_type": "code",
      "source": [
        "def factorielle(n):\n",
        "  resultat=1\n",
        "  L=[]\n",
        "  for el in range(1,n+1):\n",
        "    resultat*=el\n",
        "    L.append(el)\n",
        "\n",
        "  print(resultat)\n",
        "\n",
        "factorielle(4)  # 4!= 1 x 2 x 3 x 4  = 24\n",
        "\n",
        "\n",
        "\n"
      ],
      "metadata": {
        "colab": {
          "base_uri": "https://localhost:8080/"
        },
        "id": "4d9AoUJd6tX7",
        "outputId": "1a2bcfd3-22aa-4641-d91a-29ab0159a5ba"
      },
      "execution_count": null,
      "outputs": [
        {
          "output_type": "stream",
          "name": "stdout",
          "text": [
            "24\n"
          ]
        }
      ]
    },
    {
      "cell_type": "markdown",
      "source": [
        "complexité : O(n)\n"
      ],
      "metadata": {
        "id": "YEyHS1ck-1HT"
      }
    },
    {
      "cell_type": "markdown",
      "source": [
        "**2.10 La multiplication matricielle**\n",
        "\n",
        "Ecrire un algorithme qui prend deux matrices carr´ees A et B de taille n et qui\n",
        "renvoie un ´element ci,j (l’´element de la ligne i colonne j) de la matrice C tel\n",
        "que, A × B = C.\n",
        "\n"
      ],
      "metadata": {
        "id": "oaKXmGr0_K8A"
      }
    },
    {
      "cell_type": "code",
      "source": [
        "\n",
        "\n",
        "def calcul_matrice(A,B):\n",
        "  C=[ [ 0 for x in range(len(A))] for y in range(len(B))  ] # intialisation de la matrice C ayant la meme taille que la matrice A et B\n",
        "\n",
        "  for a in range(len(A)): # on parcours les lignes de A\n",
        "    for b in range(len(B)):# on parcours les ligne de B\n",
        "      #C[a][b]=0\n",
        "      for c in range(len(C)):\n",
        "        #on a besoin d'une troisieme boucle pour le passage a la 2 eme  colonne de B ext..\n",
        "        C[a][b]+=A[a][c]*B[c][b]\n",
        "        #print(C[a][b],\" = \",A[a][c],\" x \", B[c][b])\n",
        "  return C\n",
        "\n",
        "         \n",
        "\n",
        "\n",
        "A = [[0, 1, 2], [0, 0, 0], [1, 1, 1]]\n",
        "B = [[0, 0, 0], [1, 2, 1], [1, 1, 1]]   \n",
        "resultat=calcul_matrice(A,B)\n",
        "\n",
        "print(\"resultat du calcul = \", resultat)\n",
        "#solution facile...\n",
        "\n",
        "import numpy as np\n",
        "A=np.array([[0, 1, 2], [0, 0, 0], [1, 1, 1]])\n",
        "B=np.array([[0, 0, 0], [1, 2, 1], [1, 1, 1]])\n",
        "np.dot(A,B)\n",
        "\n",
        "\n",
        "\n"
      ],
      "metadata": {
        "colab": {
          "base_uri": "https://localhost:8080/"
        },
        "id": "gQxJ_m2M_l-K",
        "outputId": "9b90e8ff-74d4-4238-8a86-92ecc21b5d9e"
      },
      "execution_count": null,
      "outputs": [
        {
          "output_type": "stream",
          "name": "stdout",
          "text": [
            "resultat du calcul =  [[3, 4, 3], [0, 0, 0], [2, 3, 2]]\n"
          ]
        },
        {
          "output_type": "execute_result",
          "data": {
            "text/plain": [
              "array([[3, 4, 3],\n",
              "       [0, 0, 0],\n",
              "       [2, 3, 2]])"
            ]
          },
          "metadata": {},
          "execution_count": 30
        }
      ]
    },
    {
      "cell_type": "code",
      "source": [
        "A = [[0, 1, 2], [0, 0, 0], [1, 1, 1]]\n",
        "B = [[0, 0, 0], [1, 2, 1], [1, 1, 1]]  \n",
        "C=[ [ 0 for x in range(len(A))] for y in range(len(B))  ]\n",
        "C"
      ],
      "metadata": {
        "colab": {
          "base_uri": "https://localhost:8080/"
        },
        "id": "t1v2RBIbYt_5",
        "outputId": "2b2201dd-910d-47c1-e044-cc15ea7e7023"
      },
      "execution_count": null,
      "outputs": [
        {
          "output_type": "execute_result",
          "data": {
            "text/plain": [
              "[[0, 0, 0], [0, 0, 0], [0, 0, 0]]"
            ]
          },
          "metadata": {},
          "execution_count": 29
        }
      ]
    },
    {
      "cell_type": "markdown",
      "source": [
        "complexité : O(n^3)\n"
      ],
      "metadata": {
        "id": "uEroQ4EGWd50"
      }
    },
    {
      "cell_type": "markdown",
      "source": [
        "**2.11 Suite de Fibonacci**\n",
        "\n",
        "La suite de Fibonacci est d´efinit r´ecursivement par F0 = 0 , F1 = 1 et Fn+2 =\n",
        "Fn+1 + Fn pour n ≥ 0. Ecrire une fonction FIBO(n) qui impl´emente la formule\n",
        "ci-dessus."
      ],
      "metadata": {
        "id": "6fPxk38RWktc"
      }
    },
    {
      "cell_type": "code",
      "source": [
        "#resultat suite fibo = 0 1 1 2 3 5 8 13 21 34\n",
        "def suite_fibo(n):\n",
        "  T=[]\n",
        "  el1=1\n",
        "  eln=0\n",
        "\n",
        "  \n",
        "  for i in range(1,n):\n",
        "    el2=el1+eln\n",
        "    print(\"el2=\",el2,\"el1=\",el1,\"eln=\",eln)\n",
        "    eln=el1\n",
        "    el1=el2\n",
        "    T.append(el2)\n",
        "  return T\n",
        "\n",
        "suite_fibo(8)  "
      ],
      "metadata": {
        "colab": {
          "base_uri": "https://localhost:8080/"
        },
        "id": "qfA6paTTW9jD",
        "outputId": "711fdf57-1906-436e-c7c6-ad275740c77d"
      },
      "execution_count": null,
      "outputs": [
        {
          "output_type": "stream",
          "name": "stdout",
          "text": [
            "el2= 1 el1= 1 eln= 0\n",
            "el2= 2 el1= 1 eln= 1\n",
            "el2= 3 el1= 2 eln= 1\n",
            "el2= 5 el1= 3 eln= 2\n",
            "el2= 8 el1= 5 eln= 3\n",
            "el2= 13 el1= 8 eln= 5\n",
            "el2= 21 el1= 13 eln= 8\n"
          ]
        },
        {
          "output_type": "execute_result",
          "data": {
            "text/plain": [
              "[1, 2, 3, 5, 8, 13, 21]"
            ]
          },
          "metadata": {},
          "execution_count": 31
        }
      ]
    },
    {
      "cell_type": "code",
      "source": [
        "##solution 2 : recursivité\n",
        "\n",
        "def fnv2(n):\n",
        "  if n <=1:\n",
        "    return n\n",
        "  else:\n",
        "    return fnv2(n-1)+fnv2(n-2)\n",
        "fnv2(8)\n",
        "\n",
        "\n",
        "t = []\n",
        "for i in range(10):\n",
        "  t.append(fnv2(i))\n",
        "\n",
        "print(t)\n",
        "\n",
        "\n",
        "  "
      ],
      "metadata": {
        "colab": {
          "base_uri": "https://localhost:8080/"
        },
        "outputId": "953bf4bc-3faf-4992-e4d9-9f65bab133dd",
        "id": "g5bWLz9lJSlH"
      },
      "execution_count": null,
      "outputs": [
        {
          "output_type": "stream",
          "name": "stdout",
          "text": [
            "[0, 1, 1, 2, 3, 5, 8, 13, 21, 34]\n"
          ]
        }
      ]
    },
    {
      "cell_type": "markdown",
      "source": [
        "complexité : o(n) solution 1\n",
        "complexité : O(logn) (recursivité)"
      ],
      "metadata": {
        "id": "PRTRP_WFX1Cf"
      }
    },
    {
      "cell_type": "markdown",
      "source": [
        "**2.12 Le temps d’arret**\n",
        "\n",
        "On admet que H tend vers +∞. Ecrire ´\n",
        "un algorithme qui d´etermine le plus petit entier n tel que (H) d´epasse un r´eel\n",
        "α donn´e."
      ],
      "metadata": {
        "id": "H46FsnaLXt-D"
      }
    },
    {
      "cell_type": "code",
      "source": [
        "def temps_arret():\n",
        "  somme=0\n",
        "  n=1\n",
        "  alpha=int(input(\"veuillez entrer un nombre : \"))\n",
        "  while somme<alpha:\n",
        "    somme+=1/n\n",
        "    n+=1\n",
        "    print(somme)\n",
        "  return n\n",
        "\n",
        "print(temps_arret())\n"
      ],
      "metadata": {
        "colab": {
          "base_uri": "https://localhost:8080/"
        },
        "id": "IvH3ti_lYFI3",
        "outputId": "1bf29ff6-2d85-43a8-844a-a68991d05366"
      },
      "execution_count": null,
      "outputs": [
        {
          "output_type": "stream",
          "name": "stdout",
          "text": [
            "veuillez entrer un nombre : 2\n",
            "1.0\n",
            "1.5\n",
            "1.8333333333333333\n",
            "2.083333333333333\n",
            "5\n"
          ]
        }
      ]
    },
    {
      "cell_type": "markdown",
      "source": [
        "**max de la somme des nombre adjacent **"
      ],
      "metadata": {
        "id": "-wtjYSwyVzCg"
      }
    },
    {
      "cell_type": "code",
      "source": [
        "def max_two_value(a,b):\n",
        "  if(a>b):\n",
        "    return a\n",
        "  else:\n",
        "    return b\n",
        "\n",
        "def addition(a,b):\n",
        "  return a+b\n",
        "\n",
        "def max_adjacent(T):\n",
        "  T_tempo=[]\n",
        " \n",
        "  for i in range(len(T)):\n",
        "    if not len(T): #si le T est vide\n",
        "      return 0\n",
        "    elif len(T)==1:\n",
        "      return T[i]\n",
        "    elif len(T)==2:\n",
        "      return max(T)\n",
        "    elif len(T)>=3:\n",
        "      res=max_two_value(T[i+1],addition(T[i],T[i+2]))\n",
        "      T_tempo.append(T[0])\n",
        "      T_tempo.append(res)\n",
        "      print(T_tempo)\n",
        "    return max(T_tempo)\n",
        "T0=[]     \n",
        "T1=[6]\n",
        "T2=[9,2]\n",
        "T3=[4,1,2]\n",
        "T4=[7,10,12,7,9,14]\n",
        "\n",
        "#application\n",
        "\n",
        "#addition(1,3)\n",
        "#max_two_value(6,1)\n",
        "\n",
        "\n",
        "#max_adjacent(T0)\n",
        "#max_adjacent(T1)\n",
        "#max_adjacent(T2)\n",
        "max_adjacent(T3)\n",
        "max_adjacent(T4)\n"
      ],
      "metadata": {
        "colab": {
          "base_uri": "https://localhost:8080/"
        },
        "id": "6_ry4ATZV86T",
        "outputId": "f4429b3d-f08e-494a-a143-56d994816812"
      },
      "execution_count": 16,
      "outputs": [
        {
          "output_type": "stream",
          "name": "stdout",
          "text": [
            "[4, 6]\n",
            "[7, 19]\n"
          ]
        },
        {
          "output_type": "execute_result",
          "data": {
            "text/plain": [
              "19"
            ]
          },
          "metadata": {},
          "execution_count": 16
        }
      ]
    },
    {
      "cell_type": "markdown",
      "source": [
        "test exo quizz\n"
      ],
      "metadata": {
        "id": "g0kjKoJrdQoi"
      }
    },
    {
      "cell_type": "code",
      "source": [
        "\n",
        "\n",
        "\n",
        "\n",
        "\n",
        "#liste et ses fonctions natives : insert pop sorted max min \n",
        "\n",
        "s=\"hello world\"\n",
        "\n",
        "s[0]\n",
        "s[5]\n",
        "\n",
        "a=1.2\n",
        "type(a) #float\n",
        "\n",
        "type(s) #str\n",
        "\n",
        "\n",
        "L=[1,'yyy',0.2]  #len => 3   -len(L)=>-3   L[-len(L)]=> on peut aussi accéder au premiere element\n",
        "L[-1] #accés derniere element\n",
        "\n",
        "\n",
        "#difference entre la methode pop() et remove\n",
        "\n",
        "L.pop(1)  #=>renvoit l'element supprimer de la position (index) 1 !\n",
        "\n",
        "L.append(0.2)\n",
        "\n",
        "L.remove(0.2) #=> supprime la premiere occurence de 0.2 !\n",
        "\n",
        "L.insert(0,\"premier element\") # insert(index, element)\n",
        "\n",
        "print(L)\n",
        "L[-len(L)] # renvoi egalement le premiere element\n",
        "\n",
        "L2=[\"a\",\"b\",\"g\",\"z\",\"c\"]\n",
        "L3=[5,6,4,1,5,4,1,5]\n",
        "L4=[5,6,4,1,5]\n",
        "sorted(L4)  #L4.sort()\n",
        "\n",
        "\n",
        "\n",
        "\n",
        "#fonction native dictionnaire  sorted len copy update keys values items  get\n",
        "\n",
        "nb_roue = {\"voiture\": 4, \"vélo\": 2, \"tricycle\": 3}  #de type dic\n",
        "print(type(nb_roue))\n",
        "nb_roue.items() #affiche les couples clé valeur du dico\n",
        "\n",
        "nb_roue[\"vélo\"]\n",
        "nb_roue.get(\"tricycle\")\n",
        "\n",
        "\n",
        "nb_roue2=nb_roue.copy()\n",
        "nb_roue2.items()\n",
        "\n",
        "nb_roue2[1]=\"new value\"\n",
        "nb_roue2.items()\n",
        "\n",
        "del nb_roue[\"vélo\"]\n",
        "nb_roue.items()\n",
        "\n",
        "\n",
        "nb_roue.update(nb_roue2)  #fusion des deux dico\n",
        "nb_roue.items() \n",
        "\n",
        "nb_roue.keys() \n",
        "\n",
        "animaux={}\n",
        "animaux[\"mamifere\"]=\"chat\"\n",
        "animaux[\"reptiles\"]=\"lezard\"\n",
        "\n",
        "for key,value in animaux.items():\n",
        "  print(\" clef : \",key,\" valeur : \",value)\n",
        "\n",
        "\n",
        "#format pour les fonction\n",
        "\n",
        "#def division():\n",
        "#  try:\n",
        "#    a=int(input=\"veuillez entrer un nombre\")\n",
        "#    b=int(input=\"veuillez entrer un 2 eme nombre\\n\")\n",
        "#    print({\" resultat {}/{}={\"}.format(a,b,a/b)) \n",
        "#  except:\n",
        "#    print(\"on ne peut pas diviser un nombre par 0\")\n",
        "\n",
        "\n",
        "#division()\n",
        "\n",
        "my_list = ['apple', 'banana', 'grapes', 'pear']\n",
        "\n",
        "y=enumerate(my_list)\n",
        "print(list(y))\n",
        "\n",
        "\n",
        "for index, value in enumerate(my_list):\n",
        "    print(index, value)\n"
      ],
      "metadata": {
        "colab": {
          "base_uri": "https://localhost:8080/"
        },
        "id": "gsyfjDsqdUcG",
        "outputId": "0d31b4df-bf17-48b8-9df4-59be965ddfad"
      },
      "execution_count": 6,
      "outputs": [
        {
          "output_type": "stream",
          "name": "stdout",
          "text": [
            "['premier element', 1, 0.2]\n",
            "<class 'dict'>\n",
            " clef :  mamifere  valeur :  chat\n",
            " clef :  reptiles  valeur :  lezard\n",
            "[(0, 'apple'), (1, 'banana'), (2, 'grapes'), (3, 'pear')]\n",
            "0 apple\n",
            "1 banana\n",
            "2 grapes\n",
            "3 pear\n"
          ]
        }
      ]
    }
  ]
}
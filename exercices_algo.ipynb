{
  "nbformat": 4,
  "nbformat_minor": 0,
  "metadata": {
    "colab": {
      "provenance": [],
      "collapsed_sections": [],
      "authorship_tag": "ABX9TyOP2njaE8n/BW8vKT5aEC+b",
      "include_colab_link": true
    },
    "kernelspec": {
      "name": "python3",
      "display_name": "Python 3"
    },
    "language_info": {
      "name": "python"
    }
  },
  "cells": [
    {
      "cell_type": "markdown",
      "metadata": {
        "id": "view-in-github",
        "colab_type": "text"
      },
      "source": [
        "<a href=\"https://colab.research.google.com/github/LamaElkhouk/pythonh3hitema/blob/main/exercices_algo.ipynb\" target=\"_parent\"><img src=\"https://colab.research.google.com/assets/colab-badge.svg\" alt=\"Open In Colab\"/></a>"
      ]
    },
    {
      "cell_type": "markdown",
      "source": [
        "**Exercices d’algorithmique**\n",
        "**texte en gras**\n",
        "\n",
        "**2.1 Condition et produit**\n",
        "\n",
        "Ecrire un algorithme qui demande deux nombres `a l’utilisateur et l’informe en\n",
        "suite si leur produit est n´egatif ou positif (on laisse de cˆot´e le cas o`u le produit\n",
        "est nul). Attention toute fois : on ne doit pas calculer le produit des deux\n",
        "nombres\n"
      ],
      "metadata": {
        "id": "Qo77YqLE3aGY"
      }
    },
    {
      "cell_type": "code",
      "source": [
        "def produit():\n",
        "    X1 = input(\"Veuillez entrez un premier nombre :\")\n",
        "    X2 = input(\"Veuillez entrez un deuxieme nombre : \")  \n",
        "    prod=int(X1)*int(X2)\n",
        "\n",
        "    if((int(X1)<0 and int(X2)>0)or(int(X1)>0 and int(X2)<0)):\n",
        "        print(\"la valeur des produit des deux nombres est negatif :\"+str(prod))\n",
        "    else:\n",
        "        print(\"la valeur des produit des deux nombres est positif :\"+str(prod))\n",
        "\n",
        "#application\n",
        "\n",
        "produit()"
      ],
      "metadata": {
        "colab": {
          "base_uri": "https://localhost:8080/"
        },
        "id": "4YrmE2pF40fz",
        "outputId": "67fdd298-e02e-4422-da96-f5e5d228e007"
      },
      "execution_count": 25,
      "outputs": [
        {
          "output_type": "stream",
          "name": "stdout",
          "text": [
            "Veuillez entrez un premier nombre :2\n",
            "Veuillez entrez un deuxieme nombre : -3\n",
            "la valeur des produit des deux nombres est negatif :-6\n"
          ]
        }
      ]
    },
    {
      "cell_type": "markdown",
      "source": [
        "**pseudo code associé**\n",
        "\n",
        "algorithme: addition jusqu'au nombre demandé\n",
        "\n",
        "variables:\n",
        "\n",
        "          X1=entier\n",
        "          X2=entier\n",
        "          prod= formule, entier\n",
        "\n",
        "début:\n",
        "\n",
        "          afficher :\"Veuillez entrez un premier nombre :\"\n",
        "          afficher :\"Veuillez entrez un deuxieme nombre \"\n",
        "          saisir X1\n",
        "          saisir X2\n",
        "          SI ((X1<0 ET X2>0) OU (X1>0 ET X2<0))\n",
        "              afficher \"la valeur des produit des deux nombres est negatif :prod \"\n",
        "          SINON\n",
        "              afficher \"la valeur des produit des deux nombres est positif :prod\"\n",
        "          FINSI\n",
        "          FIN\n",
        "\n",
        "          "
      ],
      "metadata": {
        "id": "wWqi0sbp75rA"
      }
    },
    {
      "cell_type": "markdown",
      "source": [
        "**2.2 Additivté**\n",
        "\n",
        "Ecrire un algorithme qui demande un nombre de d´epart, et qui calcule la somme\n",
        "des entiers jusqu’`a ce nombre. Par exemple, si l’on entre 5, le programme doit\n",
        "calculer : 1 + 2 + 3 + 4 + 5 = 15.\n"
      ],
      "metadata": {
        "id": "jQt-ZrLE5HJ_"
      }
    },
    {
      "cell_type": "code",
      "source": [
        "def somme():\n",
        "    X1 = input(\"Veuillez entrez un nombre :\")\n",
        "    compteur=0\n",
        "    tab=[]\n",
        "\n",
        "    for i in range(0,int(X1)+1):\n",
        "        compteur+=i\n",
        "        tab.append(i)\n",
        "    print(\"les nombres additionnés :\"+str(tab)+\" , resultat :\"+str(compteur))\n",
        "#application\n",
        "somme()\n"
      ],
      "metadata": {
        "colab": {
          "base_uri": "https://localhost:8080/"
        },
        "id": "pURHHskJ5cWY",
        "outputId": "51c7fe93-9b88-4ff4-e9cd-e04ba72b75a4"
      },
      "execution_count": 8,
      "outputs": [
        {
          "output_type": "stream",
          "name": "stdout",
          "text": [
            "Veuillez entrez un nombre :5\n",
            "les nombres additionnés :[0, 1, 2, 3, 4, 5] , resultat :15\n"
          ]
        }
      ]
    },
    {
      "cell_type": "markdown",
      "source": [
        "**pseudo code associé**\n",
        "\n",
        "algorithme: addition jusqu'au nombre demandé\n",
        "\n",
        "variables:\n",
        "\n",
        "          X1=entier\n",
        "          compteur=entier initialiser a 0\n",
        "          tab= tableau d'entier initialiser a vide\n",
        "          \n",
        "\n",
        "début:\n",
        "\n",
        "          afficher :\"Veuillez entrez un nombre :\"\n",
        "          saisir X1\n",
        "\n",
        "          POUR compteur allant de 0 à X1+1\n",
        "              ajouter au compteur les valeur de 0 à X1+1\n",
        "              ajouter au tableau vide \"tab\" les valeurs qui vont s'additionné\n",
        "              afficher \"les nombres additionnés : tab, resultat : compteur\"\n",
        "          FINPOUR\n",
        "          FIN\n",
        "\n",
        "complexité : O(n)\n",
        "              \n",
        "\n"
      ],
      "metadata": {
        "id": "UZROLVKh-gtN"
      }
    },
    {
      "cell_type": "markdown",
      "source": [
        "**2.3 Somme des elements d’un tableau**\n",
        "\n",
        "Ecrire un algorithme calculant la somme des valeurs d’un tableau (on suppose\n",
        "bien sur que le tableau a ete prealablement saisi).\n",
        "\n"
      ],
      "metadata": {
        "id": "ZxOk20E7CrOR"
      }
    },
    {
      "cell_type": "code",
      "source": [
        "def sommeT(T):\n",
        "    val=0\n",
        "    for el in T:\n",
        "        val+=el\n",
        "    print(val)\n",
        "\n",
        "#application\n",
        "sommeT([2,0,1,4])"
      ],
      "metadata": {
        "colab": {
          "base_uri": "https://localhost:8080/"
        },
        "id": "CEz-eaVzDHgT",
        "outputId": "db4c7aea-0af0-4e57-fb44-b6bb1c48836a"
      },
      "execution_count": 20,
      "outputs": [
        {
          "output_type": "stream",
          "name": "stdout",
          "text": [
            "7\n"
          ]
        }
      ]
    },
    {
      "cell_type": "markdown",
      "source": [
        "**pseudo code associé**\n",
        "\n",
        "algorithme: addition toutes les valeurs du tableau\n",
        "\n",
        "variables:\n",
        "\n",
        "          val=entier initialiser à 0\n",
        "début:\n",
        "\n",
        "          POUR el dans T\n",
        "              additionné au compteur val les valeurs el de T\n",
        "              afficher le resultat de val\n",
        "          FINPOUR\n",
        "          FIN\n",
        "    \n",
        "complexité: O(n)\n",
        "---\n",
        "\n"
      ],
      "metadata": {
        "id": "tU0FgbiwFWVu"
      }
    },
    {
      "cell_type": "markdown",
      "source": [
        "**2.4 FacProduct**\n",
        "\n",
        "Toujours `a partir de deux tableaux pr´ec´edemment saisis, ´ecrire un algorithme\n",
        "qui calcule le ’FacProduct’ des deux tableaux. Pour calculer le ’FacProduct’, il\n",
        "faut multiplier deux `a deux les ´el´ements des tableaux et additionner le tout (le\n",
        "resultat final doit donc est un reel).\n"
      ],
      "metadata": {
        "id": "TkdUVT_WHA1Z"
      }
    },
    {
      "cell_type": "code",
      "source": [
        "def somme2T(T1,T2):\n",
        "    res=0\n",
        "    for i in range(len(T1)):\n",
        "        for j in range(len(T2)):\n",
        "            res+=T1[i]*T2[j]\n",
        "    print(res)\n",
        "#application\n",
        "somme2T([0,1],[1,1,1])"
      ],
      "metadata": {
        "colab": {
          "base_uri": "https://localhost:8080/"
        },
        "id": "FxJxwWxmHS5h",
        "outputId": "1ddab26e-121d-43c1-f08a-56c5abb61899"
      },
      "execution_count": 22,
      "outputs": [
        {
          "output_type": "stream",
          "name": "stdout",
          "text": [
            "3\n"
          ]
        }
      ]
    },
    {
      "cell_type": "markdown",
      "source": [
        "**pseudo code associé**\n",
        "\n",
        "algorithme: multiplier et additionner deux à deux les toutes les elements des deux tableaux\n",
        "\n",
        "variables:\n",
        "\n",
        "          res=entier initialiser à 0\n",
        "début:\n",
        "\n",
        "          POUR i allant jusqu'a la fin du T1\n",
        "              POUR j allant jusqu'a la fin du T2\n",
        "                  additionné et multiplier les elements deux a deux et les stocker dans res\n",
        "              FINPOUR\n",
        "          FINPOUR\n",
        "          FIN\n",
        "    \n",
        "complexité: O(n * m)  car la taille des deux tableaux ne sont pas de la meme taille , O(n^2) si ils sont de la meme taille"
      ],
      "metadata": {
        "id": "qFiG6o63H_Ai"
      }
    },
    {
      "cell_type": "markdown",
      "source": [
        "**2.5 Le plus grand**\n",
        "\n",
        "Ecrire un algorithme permettant `a l’utilisateur de renvoyer la plus grande valeur\n",
        "du tableau passer en input en pr´ecisant quelle position elle occupe dans le\n",
        "tableau."
      ],
      "metadata": {
        "id": "l-s4HjJrJbDj"
      }
    },
    {
      "cell_type": "code",
      "source": [
        "def max(T1):\n",
        "    valmax=T1[0]\n",
        "\n",
        "    for num in T1:\n",
        "        if(num > valmax):\n",
        "            valmax = num\n",
        "    print(\"valeur max : \"+str(valmax)+ \" a la position \" + str(T1.index(valmax)))\n",
        "#application\n",
        "\n",
        "max([1,9,2,3])\n"
      ],
      "metadata": {
        "colab": {
          "base_uri": "https://localhost:8080/"
        },
        "id": "JGxTlu0oKDdP",
        "outputId": "15873f9b-a142-4b09-ed6b-4c51dfaa09fa"
      },
      "execution_count": 26,
      "outputs": [
        {
          "output_type": "stream",
          "name": "stdout",
          "text": [
            "valeur max : 9 a la position 1\n"
          ]
        }
      ]
    },
    {
      "cell_type": "markdown",
      "source": [
        "**pseudo code associé**\n",
        "\n",
        "algorithme: retourne la valeur max d'un tableau en precisant sa position\n",
        "\n",
        "variables:\n",
        "\n",
        "          valmax=entier, premiere element du tableau\n",
        "début:\n",
        "\n",
        "          POUR num allant dans T1\n",
        "              SI num > valmax\n",
        "                  afficher \" valeur max : valmax à la position i de valmax\"\n",
        "              FINPOUR\n",
        "          FINPOUR\n",
        "          FIN\n",
        "    \n",
        "complexité: "
      ],
      "metadata": {
        "id": "OgXpZzXxLSmA"
      }
    },
    {
      "cell_type": "markdown",
      "source": [
        "**2.6 Plus grand que la moyenne**\n",
        "\n",
        "Ecrire un algorithme permettant `a l’utilisateur de renvoyer le nombre de valeur\n",
        "sup´erieures `a la moyenne d’un tableau pass´e en input de taille n."
      ],
      "metadata": {
        "id": "LJpQeka_Mn3O"
      }
    },
    {
      "cell_type": "code",
      "source": [
        "def plusgrandquemoyenne():\n",
        "    T1=[1,5,2,9]\n",
        "    T2=[]\n",
        "    cpt=0\n",
        "    \n",
        "    for num in T1:\n",
        "        cpt+=num\n",
        "    print(\"la moyenne : \"+str(cpt/len(T1)))\n",
        "\n",
        "    for num in T1:\n",
        "        if(num>cpt/len(T1)):\n",
        "            T2.append(num)\n",
        "\n",
        "    print(\"on a \"+ str(len(T2))+\" nombres superieur a la moyenne \")\n",
        "   \n",
        "\n",
        "plusgrandquemoyenne()"
      ],
      "metadata": {
        "colab": {
          "base_uri": "https://localhost:8080/"
        },
        "id": "-RdtO-78M97b",
        "outputId": "f21b7def-99bb-43f6-e9bb-3dc608313d66"
      },
      "execution_count": 28,
      "outputs": [
        {
          "output_type": "stream",
          "name": "stdout",
          "text": [
            "la moyenne : 4.25\n",
            "on a 2 nombres superieur a la moyenne \n"
          ]
        }
      ]
    },
    {
      "cell_type": "markdown",
      "source": [
        "complexité : O(n^2)\n"
      ],
      "metadata": {
        "id": "VWDAZOKhUmNf"
      }
    },
    {
      "cell_type": "markdown",
      "source": [
        "**2.7 Multiplier des vecteurs**\n",
        "\n",
        "Ecrire un algorithme permettant d’effectuer la multiplication de deux vecteurs\n",
        "de taille N connue `a l’avance et d’afficher le r´esultat."
      ],
      "metadata": {
        "id": "L1fRnawcUen7"
      }
    },
    {
      "cell_type": "code",
      "source": [
        "u=(1,2)\n",
        "v=(0,1)\n"
      ],
      "metadata": {
        "id": "b_o9HfDJYMxO"
      },
      "execution_count": null,
      "outputs": []
    }
  ]
}
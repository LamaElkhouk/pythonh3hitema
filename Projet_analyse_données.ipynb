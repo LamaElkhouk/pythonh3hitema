{
  "nbformat": 4,
  "nbformat_minor": 0,
  "metadata": {
    "colab": {
      "provenance": [],
      "collapsed_sections": [],
      "authorship_tag": "ABX9TyObifligmLD0N+DgtTN2a52",
      "include_colab_link": true
    },
    "kernelspec": {
      "name": "python3",
      "display_name": "Python 3"
    },
    "language_info": {
      "name": "python"
    }
  },
  "cells": [
    {
      "cell_type": "markdown",
      "metadata": {
        "id": "view-in-github",
        "colab_type": "text"
      },
      "source": [
        "<a href=\"https://colab.research.google.com/github/LamaElkhouk/pythonh3hitema/blob/main/Projet_analyse_donn%C3%A9es.ipynb\" target=\"_parent\"><img src=\"https://colab.research.google.com/assets/colab-badge.svg\" alt=\"Open In Colab\"/></a>"
      ]
    },
    {
      "cell_type": "markdown",
      "source": [
        "**Projet**\n",
        "\n",
        "Mon projet consiste à étudier un jeu de données présentant des individus, des étudiants pour étudier et analyser leur santé mental et je souhaite savoir si il y'a un lien entre les differents resultats de ses étudiants et leurs note moyenne !\n",
        "\n",
        "**Si oui**, serait-il possible d'identifier quels sont le/le(s) groupe(s) d'étudiant(s) le(s) plus toucher par cette influence\n"
      ],
      "metadata": {
        "id": "ddtra9xUZSOo"
      }
    },
    {
      "cell_type": "code",
      "source": [
        "import pandas as pd\n",
        "import numpy as np\n",
        "import seaborn as sb\n",
        "import matplotlib.pyplot as plt\n",
        "\n",
        "df= pd.read_csv('/Student_Mental_health.csv');\n",
        "\n",
        "\n",
        "# number of rows\n",
        "rows = len(df.axes[0])\n",
        " \n",
        "# number of columns\n",
        "cols = len(df.axes[1])\n",
        "\n",
        "print(\"Number of Rows: \", rows)\n",
        "print(\"Number of Columns: \", cols)\n",
        "df.head() \n"
      ],
      "metadata": {
        "colab": {
          "base_uri": "https://localhost:8080/",
          "height": 424
        },
        "id": "4SDh8uf2ZVBa",
        "outputId": "05f1e0ad-cd2a-4306-cda6-1af5b7c0a28b"
      },
      "execution_count": 217,
      "outputs": [
        {
          "output_type": "stream",
          "name": "stdout",
          "text": [
            "Number of Rows:  101\n",
            "Number of Columns:  11\n"
          ]
        },
        {
          "output_type": "execute_result",
          "data": {
            "text/plain": [
              "        Timestamp Choose your gender   Age What is your course?  \\\n",
              "0  8/7/2020 12:02             Female  18.0          Engineering   \n",
              "1  8/7/2020 12:04               Male  21.0    Islamic education   \n",
              "2  8/7/2020 12:05               Male  19.0                  BIT   \n",
              "3  8/7/2020 12:06             Female  22.0                 Laws   \n",
              "4  8/7/2020 12:13               Male  23.0         Mathemathics   \n",
              "\n",
              "  Your current year of Study What is your CGPA? Marital status  \\\n",
              "0                     year 1        3.00 - 3.49             No   \n",
              "1                     year 2        3.00 - 3.49             No   \n",
              "2                     Year 1        3.00 - 3.49             No   \n",
              "3                     year 3        3.00 - 3.49            Yes   \n",
              "4                     year 4        3.00 - 3.49             No   \n",
              "\n",
              "  Do you have Depression? Do you have Anxiety? Do you have Panic attack?  \\\n",
              "0                     Yes                   No                       Yes   \n",
              "1                      No                  Yes                        No   \n",
              "2                     Yes                  Yes                       Yes   \n",
              "3                     Yes                   No                        No   \n",
              "4                      No                   No                        No   \n",
              "\n",
              "  Did you seek any specialist for a treatment?  \n",
              "0                                           No  \n",
              "1                                           No  \n",
              "2                                           No  \n",
              "3                                           No  \n",
              "4                                           No  "
            ],
            "text/html": [
              "\n",
              "  <div id=\"df-5ab91728-340d-4baf-bc3b-55f768d83f47\">\n",
              "    <div class=\"colab-df-container\">\n",
              "      <div>\n",
              "<style scoped>\n",
              "    .dataframe tbody tr th:only-of-type {\n",
              "        vertical-align: middle;\n",
              "    }\n",
              "\n",
              "    .dataframe tbody tr th {\n",
              "        vertical-align: top;\n",
              "    }\n",
              "\n",
              "    .dataframe thead th {\n",
              "        text-align: right;\n",
              "    }\n",
              "</style>\n",
              "<table border=\"1\" class=\"dataframe\">\n",
              "  <thead>\n",
              "    <tr style=\"text-align: right;\">\n",
              "      <th></th>\n",
              "      <th>Timestamp</th>\n",
              "      <th>Choose your gender</th>\n",
              "      <th>Age</th>\n",
              "      <th>What is your course?</th>\n",
              "      <th>Your current year of Study</th>\n",
              "      <th>What is your CGPA?</th>\n",
              "      <th>Marital status</th>\n",
              "      <th>Do you have Depression?</th>\n",
              "      <th>Do you have Anxiety?</th>\n",
              "      <th>Do you have Panic attack?</th>\n",
              "      <th>Did you seek any specialist for a treatment?</th>\n",
              "    </tr>\n",
              "  </thead>\n",
              "  <tbody>\n",
              "    <tr>\n",
              "      <th>0</th>\n",
              "      <td>8/7/2020 12:02</td>\n",
              "      <td>Female</td>\n",
              "      <td>18.0</td>\n",
              "      <td>Engineering</td>\n",
              "      <td>year 1</td>\n",
              "      <td>3.00 - 3.49</td>\n",
              "      <td>No</td>\n",
              "      <td>Yes</td>\n",
              "      <td>No</td>\n",
              "      <td>Yes</td>\n",
              "      <td>No</td>\n",
              "    </tr>\n",
              "    <tr>\n",
              "      <th>1</th>\n",
              "      <td>8/7/2020 12:04</td>\n",
              "      <td>Male</td>\n",
              "      <td>21.0</td>\n",
              "      <td>Islamic education</td>\n",
              "      <td>year 2</td>\n",
              "      <td>3.00 - 3.49</td>\n",
              "      <td>No</td>\n",
              "      <td>No</td>\n",
              "      <td>Yes</td>\n",
              "      <td>No</td>\n",
              "      <td>No</td>\n",
              "    </tr>\n",
              "    <tr>\n",
              "      <th>2</th>\n",
              "      <td>8/7/2020 12:05</td>\n",
              "      <td>Male</td>\n",
              "      <td>19.0</td>\n",
              "      <td>BIT</td>\n",
              "      <td>Year 1</td>\n",
              "      <td>3.00 - 3.49</td>\n",
              "      <td>No</td>\n",
              "      <td>Yes</td>\n",
              "      <td>Yes</td>\n",
              "      <td>Yes</td>\n",
              "      <td>No</td>\n",
              "    </tr>\n",
              "    <tr>\n",
              "      <th>3</th>\n",
              "      <td>8/7/2020 12:06</td>\n",
              "      <td>Female</td>\n",
              "      <td>22.0</td>\n",
              "      <td>Laws</td>\n",
              "      <td>year 3</td>\n",
              "      <td>3.00 - 3.49</td>\n",
              "      <td>Yes</td>\n",
              "      <td>Yes</td>\n",
              "      <td>No</td>\n",
              "      <td>No</td>\n",
              "      <td>No</td>\n",
              "    </tr>\n",
              "    <tr>\n",
              "      <th>4</th>\n",
              "      <td>8/7/2020 12:13</td>\n",
              "      <td>Male</td>\n",
              "      <td>23.0</td>\n",
              "      <td>Mathemathics</td>\n",
              "      <td>year 4</td>\n",
              "      <td>3.00 - 3.49</td>\n",
              "      <td>No</td>\n",
              "      <td>No</td>\n",
              "      <td>No</td>\n",
              "      <td>No</td>\n",
              "      <td>No</td>\n",
              "    </tr>\n",
              "  </tbody>\n",
              "</table>\n",
              "</div>\n",
              "      <button class=\"colab-df-convert\" onclick=\"convertToInteractive('df-5ab91728-340d-4baf-bc3b-55f768d83f47')\"\n",
              "              title=\"Convert this dataframe to an interactive table.\"\n",
              "              style=\"display:none;\">\n",
              "        \n",
              "  <svg xmlns=\"http://www.w3.org/2000/svg\" height=\"24px\"viewBox=\"0 0 24 24\"\n",
              "       width=\"24px\">\n",
              "    <path d=\"M0 0h24v24H0V0z\" fill=\"none\"/>\n",
              "    <path d=\"M18.56 5.44l.94 2.06.94-2.06 2.06-.94-2.06-.94-.94-2.06-.94 2.06-2.06.94zm-11 1L8.5 8.5l.94-2.06 2.06-.94-2.06-.94L8.5 2.5l-.94 2.06-2.06.94zm10 10l.94 2.06.94-2.06 2.06-.94-2.06-.94-.94-2.06-.94 2.06-2.06.94z\"/><path d=\"M17.41 7.96l-1.37-1.37c-.4-.4-.92-.59-1.43-.59-.52 0-1.04.2-1.43.59L10.3 9.45l-7.72 7.72c-.78.78-.78 2.05 0 2.83L4 21.41c.39.39.9.59 1.41.59.51 0 1.02-.2 1.41-.59l7.78-7.78 2.81-2.81c.8-.78.8-2.07 0-2.86zM5.41 20L4 18.59l7.72-7.72 1.47 1.35L5.41 20z\"/>\n",
              "  </svg>\n",
              "      </button>\n",
              "      \n",
              "  <style>\n",
              "    .colab-df-container {\n",
              "      display:flex;\n",
              "      flex-wrap:wrap;\n",
              "      gap: 12px;\n",
              "    }\n",
              "\n",
              "    .colab-df-convert {\n",
              "      background-color: #E8F0FE;\n",
              "      border: none;\n",
              "      border-radius: 50%;\n",
              "      cursor: pointer;\n",
              "      display: none;\n",
              "      fill: #1967D2;\n",
              "      height: 32px;\n",
              "      padding: 0 0 0 0;\n",
              "      width: 32px;\n",
              "    }\n",
              "\n",
              "    .colab-df-convert:hover {\n",
              "      background-color: #E2EBFA;\n",
              "      box-shadow: 0px 1px 2px rgba(60, 64, 67, 0.3), 0px 1px 3px 1px rgba(60, 64, 67, 0.15);\n",
              "      fill: #174EA6;\n",
              "    }\n",
              "\n",
              "    [theme=dark] .colab-df-convert {\n",
              "      background-color: #3B4455;\n",
              "      fill: #D2E3FC;\n",
              "    }\n",
              "\n",
              "    [theme=dark] .colab-df-convert:hover {\n",
              "      background-color: #434B5C;\n",
              "      box-shadow: 0px 1px 3px 1px rgba(0, 0, 0, 0.15);\n",
              "      filter: drop-shadow(0px 1px 2px rgba(0, 0, 0, 0.3));\n",
              "      fill: #FFFFFF;\n",
              "    }\n",
              "  </style>\n",
              "\n",
              "      <script>\n",
              "        const buttonEl =\n",
              "          document.querySelector('#df-5ab91728-340d-4baf-bc3b-55f768d83f47 button.colab-df-convert');\n",
              "        buttonEl.style.display =\n",
              "          google.colab.kernel.accessAllowed ? 'block' : 'none';\n",
              "\n",
              "        async function convertToInteractive(key) {\n",
              "          const element = document.querySelector('#df-5ab91728-340d-4baf-bc3b-55f768d83f47');\n",
              "          const dataTable =\n",
              "            await google.colab.kernel.invokeFunction('convertToInteractive',\n",
              "                                                     [key], {});\n",
              "          if (!dataTable) return;\n",
              "\n",
              "          const docLinkHtml = 'Like what you see? Visit the ' +\n",
              "            '<a target=\"_blank\" href=https://colab.research.google.com/notebooks/data_table.ipynb>data table notebook</a>'\n",
              "            + ' to learn more about interactive tables.';\n",
              "          element.innerHTML = '';\n",
              "          dataTable['output_type'] = 'display_data';\n",
              "          await google.colab.output.renderOutput(dataTable, element);\n",
              "          const docLink = document.createElement('div');\n",
              "          docLink.innerHTML = docLinkHtml;\n",
              "          element.appendChild(docLink);\n",
              "        }\n",
              "      </script>\n",
              "    </div>\n",
              "  </div>\n",
              "  "
            ]
          },
          "metadata": {},
          "execution_count": 217
        }
      ]
    },
    {
      "cell_type": "markdown",
      "source": [
        "**Les données (variables) constituant mon dataframe : **\n",
        "\n"
      ],
      "metadata": {
        "id": "vZY1WGXPIjQn"
      }
    },
    {
      "cell_type": "code",
      "source": [
        "df.info()"
      ],
      "metadata": {
        "colab": {
          "base_uri": "https://localhost:8080/"
        },
        "id": "97OgWJaJIrbP",
        "outputId": "c3713595-49d1-439c-e83e-a37d41e6186f"
      },
      "execution_count": 218,
      "outputs": [
        {
          "output_type": "stream",
          "name": "stdout",
          "text": [
            "<class 'pandas.core.frame.DataFrame'>\n",
            "RangeIndex: 101 entries, 0 to 100\n",
            "Data columns (total 11 columns):\n",
            " #   Column                                        Non-Null Count  Dtype  \n",
            "---  ------                                        --------------  -----  \n",
            " 0   Timestamp                                     101 non-null    object \n",
            " 1   Choose your gender                            101 non-null    object \n",
            " 2   Age                                           100 non-null    float64\n",
            " 3   What is your course?                          101 non-null    object \n",
            " 4   Your current year of Study                    101 non-null    object \n",
            " 5   What is your CGPA?                            101 non-null    object \n",
            " 6   Marital status                                101 non-null    object \n",
            " 7   Do you have Depression?                       101 non-null    object \n",
            " 8   Do you have Anxiety?                          101 non-null    object \n",
            " 9   Do you have Panic attack?                     101 non-null    object \n",
            " 10  Did you seek any specialist for a treatment?  101 non-null    object \n",
            "dtypes: float64(1), object(10)\n",
            "memory usage: 8.8+ KB\n"
          ]
        }
      ]
    },
    {
      "cell_type": "markdown",
      "source": [
        "On étudie un échantillon de 101 étudiants ayant 11 caractéristiques:\n",
        "\n",
        " => **personnelles** : \n",
        " \n",
        " age, domaine d'études, son année d'étude, sa moyenne globale (CGPA = A=4 B=3 C=2 D=1 et F=0) et son état civil.\n",
        "\n",
        " => **En rapport avec leur santé mentale**:\n",
        " \n",
        "  Est ce qu'ils sont en dépression? ressent-ils de l'anxiété ? ont-ils déja eu une crise de panique? ont-ils consulté un spécialiste pour un traitement?\n",
        "\n",
        "=> Il y'a également la toute premiere caractéristique **\"timestamp\"**,qui selon n'est pas une variable pertinente pour l'étude, elle représente la date et heure à laquel chaque étudiant à été interroger.\n",
        "\n",
        "Le dataframe est constitué principalement de **variables qualitatives** de type Object (string) et d'**une variable quantitative** \"l'age\", qui est de type float.\n"
      ],
      "metadata": {
        "id": "sLuX8Z5lMUCa"
      }
    },
    {
      "cell_type": "markdown",
      "source": [
        "**Dataframe en version plus simplifier**\n",
        "\n"
      ],
      "metadata": {
        "id": "h0JjyfX4W3NW"
      }
    },
    {
      "cell_type": "code",
      "source": [
        "\n",
        "#J'ai renommé les noms de variables\n",
        "df.rename(columns = {'Choose your gender':'gender','What is your course?':'course','Your current year of Study':'current year','What is your CGPA?':'CGPA','Do you have Depression?':'depression', 'Do you have Anxiety?':'anxiety','Do you have Panic attack?':'panic attack','Did you seek any specialist for a treatment?':'specialist for a treatment'}, inplace = True)\n",
        "\n"
      ],
      "metadata": {
        "id": "CsJ-e0vmXntt"
      },
      "execution_count": 219,
      "outputs": []
    },
    {
      "cell_type": "code",
      "source": [
        "note_moyenne=[]\n",
        "\n",
        "for i in df['CGPA']:\n",
        "    i=i.split()\n",
        "    moyenne=(float(i[0])+float(i[2]))/2\n",
        "    note_moyenne.append(moyenne)\n",
        "\n",
        "\n",
        "\n",
        "#df.insert(6,\"note moyenne\",1)\n",
        "\n",
        "df['note moyenne']=note_moyenne\n",
        "\n",
        "df.head(10)\n",
        "\n",
        "\n",
        "#sb.catplot(x=\"note_moyenne\", y=\"depression\", data = df, kind= \"box\", height=7)\n"
      ],
      "metadata": {
        "colab": {
          "base_uri": "https://localhost:8080/",
          "height": 598
        },
        "id": "W9HNaEhkzU4k",
        "outputId": "7ef232e9-0d0a-40ff-b154-f51285f8e350"
      },
      "execution_count": 224,
      "outputs": [
        {
          "output_type": "execute_result",
          "data": {
            "text/plain": [
              "        Timestamp  gender   Age             course current year          CGPA  \\\n",
              "0  8/7/2020 12:02  Female  18.0        Engineering       year 1   3.00 - 3.49   \n",
              "1  8/7/2020 12:04    Male  21.0  Islamic education       year 2   3.00 - 3.49   \n",
              "2  8/7/2020 12:05    Male  19.0                BIT       Year 1   3.00 - 3.49   \n",
              "3  8/7/2020 12:06  Female  22.0               Laws       year 3   3.00 - 3.49   \n",
              "4  8/7/2020 12:13    Male  23.0       Mathemathics       year 4   3.00 - 3.49   \n",
              "5  8/7/2020 12:31    Male  19.0        Engineering       Year 2   3.50 - 4.00   \n",
              "6  8/7/2020 12:32  Female  23.0   Pendidikan islam       year 2  3.50 - 4.00    \n",
              "7  8/7/2020 12:33  Female  18.0                BCS       year 1   3.50 - 4.00   \n",
              "8  8/7/2020 12:35  Female  19.0    Human Resources       Year 2   2.50 - 2.99   \n",
              "9  8/7/2020 12:39    Male  18.0              Irkhs       year 1   3.50 - 4.00   \n",
              "\n",
              "  Marital status depression anxiety panic attack specialist for a treatment  \\\n",
              "0             No        Yes      No          Yes                         No   \n",
              "1             No         No     Yes           No                         No   \n",
              "2             No        Yes     Yes          Yes                         No   \n",
              "3            Yes        Yes      No           No                         No   \n",
              "4             No         No      No           No                         No   \n",
              "5             No         No      No          Yes                         No   \n",
              "6            Yes        Yes      No          Yes                         No   \n",
              "7             No         No     Yes           No                         No   \n",
              "8             No         No      No           No                         No   \n",
              "9             No         No     Yes          Yes                         No   \n",
              "\n",
              "   note moyenne  \n",
              "0         3.245  \n",
              "1         3.245  \n",
              "2         3.245  \n",
              "3         3.245  \n",
              "4         3.245  \n",
              "5         3.750  \n",
              "6         3.750  \n",
              "7         3.750  \n",
              "8         2.745  \n",
              "9         3.750  "
            ],
            "text/html": [
              "\n",
              "  <div id=\"df-25a468f7-0afa-434c-b8f0-59c5571b762f\">\n",
              "    <div class=\"colab-df-container\">\n",
              "      <div>\n",
              "<style scoped>\n",
              "    .dataframe tbody tr th:only-of-type {\n",
              "        vertical-align: middle;\n",
              "    }\n",
              "\n",
              "    .dataframe tbody tr th {\n",
              "        vertical-align: top;\n",
              "    }\n",
              "\n",
              "    .dataframe thead th {\n",
              "        text-align: right;\n",
              "    }\n",
              "</style>\n",
              "<table border=\"1\" class=\"dataframe\">\n",
              "  <thead>\n",
              "    <tr style=\"text-align: right;\">\n",
              "      <th></th>\n",
              "      <th>Timestamp</th>\n",
              "      <th>gender</th>\n",
              "      <th>Age</th>\n",
              "      <th>course</th>\n",
              "      <th>current year</th>\n",
              "      <th>CGPA</th>\n",
              "      <th>Marital status</th>\n",
              "      <th>depression</th>\n",
              "      <th>anxiety</th>\n",
              "      <th>panic attack</th>\n",
              "      <th>specialist for a treatment</th>\n",
              "      <th>note moyenne</th>\n",
              "    </tr>\n",
              "  </thead>\n",
              "  <tbody>\n",
              "    <tr>\n",
              "      <th>0</th>\n",
              "      <td>8/7/2020 12:02</td>\n",
              "      <td>Female</td>\n",
              "      <td>18.0</td>\n",
              "      <td>Engineering</td>\n",
              "      <td>year 1</td>\n",
              "      <td>3.00 - 3.49</td>\n",
              "      <td>No</td>\n",
              "      <td>Yes</td>\n",
              "      <td>No</td>\n",
              "      <td>Yes</td>\n",
              "      <td>No</td>\n",
              "      <td>3.245</td>\n",
              "    </tr>\n",
              "    <tr>\n",
              "      <th>1</th>\n",
              "      <td>8/7/2020 12:04</td>\n",
              "      <td>Male</td>\n",
              "      <td>21.0</td>\n",
              "      <td>Islamic education</td>\n",
              "      <td>year 2</td>\n",
              "      <td>3.00 - 3.49</td>\n",
              "      <td>No</td>\n",
              "      <td>No</td>\n",
              "      <td>Yes</td>\n",
              "      <td>No</td>\n",
              "      <td>No</td>\n",
              "      <td>3.245</td>\n",
              "    </tr>\n",
              "    <tr>\n",
              "      <th>2</th>\n",
              "      <td>8/7/2020 12:05</td>\n",
              "      <td>Male</td>\n",
              "      <td>19.0</td>\n",
              "      <td>BIT</td>\n",
              "      <td>Year 1</td>\n",
              "      <td>3.00 - 3.49</td>\n",
              "      <td>No</td>\n",
              "      <td>Yes</td>\n",
              "      <td>Yes</td>\n",
              "      <td>Yes</td>\n",
              "      <td>No</td>\n",
              "      <td>3.245</td>\n",
              "    </tr>\n",
              "    <tr>\n",
              "      <th>3</th>\n",
              "      <td>8/7/2020 12:06</td>\n",
              "      <td>Female</td>\n",
              "      <td>22.0</td>\n",
              "      <td>Laws</td>\n",
              "      <td>year 3</td>\n",
              "      <td>3.00 - 3.49</td>\n",
              "      <td>Yes</td>\n",
              "      <td>Yes</td>\n",
              "      <td>No</td>\n",
              "      <td>No</td>\n",
              "      <td>No</td>\n",
              "      <td>3.245</td>\n",
              "    </tr>\n",
              "    <tr>\n",
              "      <th>4</th>\n",
              "      <td>8/7/2020 12:13</td>\n",
              "      <td>Male</td>\n",
              "      <td>23.0</td>\n",
              "      <td>Mathemathics</td>\n",
              "      <td>year 4</td>\n",
              "      <td>3.00 - 3.49</td>\n",
              "      <td>No</td>\n",
              "      <td>No</td>\n",
              "      <td>No</td>\n",
              "      <td>No</td>\n",
              "      <td>No</td>\n",
              "      <td>3.245</td>\n",
              "    </tr>\n",
              "    <tr>\n",
              "      <th>5</th>\n",
              "      <td>8/7/2020 12:31</td>\n",
              "      <td>Male</td>\n",
              "      <td>19.0</td>\n",
              "      <td>Engineering</td>\n",
              "      <td>Year 2</td>\n",
              "      <td>3.50 - 4.00</td>\n",
              "      <td>No</td>\n",
              "      <td>No</td>\n",
              "      <td>No</td>\n",
              "      <td>Yes</td>\n",
              "      <td>No</td>\n",
              "      <td>3.750</td>\n",
              "    </tr>\n",
              "    <tr>\n",
              "      <th>6</th>\n",
              "      <td>8/7/2020 12:32</td>\n",
              "      <td>Female</td>\n",
              "      <td>23.0</td>\n",
              "      <td>Pendidikan islam</td>\n",
              "      <td>year 2</td>\n",
              "      <td>3.50 - 4.00</td>\n",
              "      <td>Yes</td>\n",
              "      <td>Yes</td>\n",
              "      <td>No</td>\n",
              "      <td>Yes</td>\n",
              "      <td>No</td>\n",
              "      <td>3.750</td>\n",
              "    </tr>\n",
              "    <tr>\n",
              "      <th>7</th>\n",
              "      <td>8/7/2020 12:33</td>\n",
              "      <td>Female</td>\n",
              "      <td>18.0</td>\n",
              "      <td>BCS</td>\n",
              "      <td>year 1</td>\n",
              "      <td>3.50 - 4.00</td>\n",
              "      <td>No</td>\n",
              "      <td>No</td>\n",
              "      <td>Yes</td>\n",
              "      <td>No</td>\n",
              "      <td>No</td>\n",
              "      <td>3.750</td>\n",
              "    </tr>\n",
              "    <tr>\n",
              "      <th>8</th>\n",
              "      <td>8/7/2020 12:35</td>\n",
              "      <td>Female</td>\n",
              "      <td>19.0</td>\n",
              "      <td>Human Resources</td>\n",
              "      <td>Year 2</td>\n",
              "      <td>2.50 - 2.99</td>\n",
              "      <td>No</td>\n",
              "      <td>No</td>\n",
              "      <td>No</td>\n",
              "      <td>No</td>\n",
              "      <td>No</td>\n",
              "      <td>2.745</td>\n",
              "    </tr>\n",
              "    <tr>\n",
              "      <th>9</th>\n",
              "      <td>8/7/2020 12:39</td>\n",
              "      <td>Male</td>\n",
              "      <td>18.0</td>\n",
              "      <td>Irkhs</td>\n",
              "      <td>year 1</td>\n",
              "      <td>3.50 - 4.00</td>\n",
              "      <td>No</td>\n",
              "      <td>No</td>\n",
              "      <td>Yes</td>\n",
              "      <td>Yes</td>\n",
              "      <td>No</td>\n",
              "      <td>3.750</td>\n",
              "    </tr>\n",
              "  </tbody>\n",
              "</table>\n",
              "</div>\n",
              "      <button class=\"colab-df-convert\" onclick=\"convertToInteractive('df-25a468f7-0afa-434c-b8f0-59c5571b762f')\"\n",
              "              title=\"Convert this dataframe to an interactive table.\"\n",
              "              style=\"display:none;\">\n",
              "        \n",
              "  <svg xmlns=\"http://www.w3.org/2000/svg\" height=\"24px\"viewBox=\"0 0 24 24\"\n",
              "       width=\"24px\">\n",
              "    <path d=\"M0 0h24v24H0V0z\" fill=\"none\"/>\n",
              "    <path d=\"M18.56 5.44l.94 2.06.94-2.06 2.06-.94-2.06-.94-.94-2.06-.94 2.06-2.06.94zm-11 1L8.5 8.5l.94-2.06 2.06-.94-2.06-.94L8.5 2.5l-.94 2.06-2.06.94zm10 10l.94 2.06.94-2.06 2.06-.94-2.06-.94-.94-2.06-.94 2.06-2.06.94z\"/><path d=\"M17.41 7.96l-1.37-1.37c-.4-.4-.92-.59-1.43-.59-.52 0-1.04.2-1.43.59L10.3 9.45l-7.72 7.72c-.78.78-.78 2.05 0 2.83L4 21.41c.39.39.9.59 1.41.59.51 0 1.02-.2 1.41-.59l7.78-7.78 2.81-2.81c.8-.78.8-2.07 0-2.86zM5.41 20L4 18.59l7.72-7.72 1.47 1.35L5.41 20z\"/>\n",
              "  </svg>\n",
              "      </button>\n",
              "      \n",
              "  <style>\n",
              "    .colab-df-container {\n",
              "      display:flex;\n",
              "      flex-wrap:wrap;\n",
              "      gap: 12px;\n",
              "    }\n",
              "\n",
              "    .colab-df-convert {\n",
              "      background-color: #E8F0FE;\n",
              "      border: none;\n",
              "      border-radius: 50%;\n",
              "      cursor: pointer;\n",
              "      display: none;\n",
              "      fill: #1967D2;\n",
              "      height: 32px;\n",
              "      padding: 0 0 0 0;\n",
              "      width: 32px;\n",
              "    }\n",
              "\n",
              "    .colab-df-convert:hover {\n",
              "      background-color: #E2EBFA;\n",
              "      box-shadow: 0px 1px 2px rgba(60, 64, 67, 0.3), 0px 1px 3px 1px rgba(60, 64, 67, 0.15);\n",
              "      fill: #174EA6;\n",
              "    }\n",
              "\n",
              "    [theme=dark] .colab-df-convert {\n",
              "      background-color: #3B4455;\n",
              "      fill: #D2E3FC;\n",
              "    }\n",
              "\n",
              "    [theme=dark] .colab-df-convert:hover {\n",
              "      background-color: #434B5C;\n",
              "      box-shadow: 0px 1px 3px 1px rgba(0, 0, 0, 0.15);\n",
              "      filter: drop-shadow(0px 1px 2px rgba(0, 0, 0, 0.3));\n",
              "      fill: #FFFFFF;\n",
              "    }\n",
              "  </style>\n",
              "\n",
              "      <script>\n",
              "        const buttonEl =\n",
              "          document.querySelector('#df-25a468f7-0afa-434c-b8f0-59c5571b762f button.colab-df-convert');\n",
              "        buttonEl.style.display =\n",
              "          google.colab.kernel.accessAllowed ? 'block' : 'none';\n",
              "\n",
              "        async function convertToInteractive(key) {\n",
              "          const element = document.querySelector('#df-25a468f7-0afa-434c-b8f0-59c5571b762f');\n",
              "          const dataTable =\n",
              "            await google.colab.kernel.invokeFunction('convertToInteractive',\n",
              "                                                     [key], {});\n",
              "          if (!dataTable) return;\n",
              "\n",
              "          const docLinkHtml = 'Like what you see? Visit the ' +\n",
              "            '<a target=\"_blank\" href=https://colab.research.google.com/notebooks/data_table.ipynb>data table notebook</a>'\n",
              "            + ' to learn more about interactive tables.';\n",
              "          element.innerHTML = '';\n",
              "          dataTable['output_type'] = 'display_data';\n",
              "          await google.colab.output.renderOutput(dataTable, element);\n",
              "          const docLink = document.createElement('div');\n",
              "          docLink.innerHTML = docLinkHtml;\n",
              "          element.appendChild(docLink);\n",
              "        }\n",
              "      </script>\n",
              "    </div>\n",
              "  </div>\n",
              "  "
            ]
          },
          "metadata": {},
          "execution_count": 224
        }
      ]
    },
    {
      "cell_type": "markdown",
      "source": [
        "**Peut-on décrire la note moyenne par rapport à depression ? panic attack et anxiety?**"
      ],
      "metadata": {
        "id": "nwYVqqC3Pyej"
      }
    },
    {
      "cell_type": "code",
      "source": [
        "df['note moyenne'].describe()"
      ],
      "metadata": {
        "colab": {
          "base_uri": "https://localhost:8080/"
        },
        "id": "8gZsxb42P0Hq",
        "outputId": "29735ccd-8f24-4d62-8e9d-29b3f212d058"
      },
      "execution_count": 221,
      "outputs": [
        {
          "output_type": "execute_result",
          "data": {
            "text/plain": [
              "count    101.000000\n",
              "mean       3.356287\n",
              "std        0.585152\n",
              "min        0.995000\n",
              "25%        3.245000\n",
              "50%        3.245000\n",
              "75%        3.750000\n",
              "max        3.750000\n",
              "Name: note moyenne, dtype: float64"
            ]
          },
          "metadata": {},
          "execution_count": 221
        }
      ]
    },
    {
      "cell_type": "markdown",
      "source": [
        "la moyenne des notes est  de 3.35 \n",
        "\n",
        "l'écart-type : 0.58\n",
        "\n",
        "donc les notes vont de 2.77 à 3.93 qui sont plutot de bonne notes!\n",
        "\n",
        "max => 3.75 == 100%\n",
        "0.58 represente 15.46% de 3.75% qui est plutot faible mais on ne peut pas vraiment conclure qu'elle soit significative"
      ],
      "metadata": {
        "id": "oyLOKH4_QiJM"
      }
    },
    {
      "cell_type": "markdown",
      "source": [
        "Correlation entre la variable qui décrit **la note_moyenne** de chaque étudiant avec la variable chacune des variables qui décrit si oui ou non il est anxieux, **anxiety**, si oui ou non il est en **depression** et si oui ou non il a des crises de panique, **panic attack**"
      ],
      "metadata": {
        "id": "Ab3jqR8yG1H8"
      }
    },
    {
      "cell_type": "code",
      "source": [
        "\n",
        "#sb.catplot(y=\"note moyenne\", x=\"anxiety\", data= df, kind=\"bar\", height=5, aspect=1)\n",
        "sb.catplot(y=\"anxiety\", x=\"note moyenne\", data = df, kind= \"box\", height=7)\n",
        "\n"
      ],
      "metadata": {
        "colab": {
          "base_uri": "https://localhost:8080/",
          "height": 530
        },
        "id": "bzn5zr8zhWp5",
        "outputId": "2ce6ffe3-ae32-4ef8-cdfa-a1c78b24f3c2"
      },
      "execution_count": 230,
      "outputs": [
        {
          "output_type": "execute_result",
          "data": {
            "text/plain": [
              "<seaborn.axisgrid.FacetGrid at 0x7fee477a88d0>"
            ]
          },
          "metadata": {},
          "execution_count": 230
        },
        {
          "output_type": "display_data",
          "data": {
            "text/plain": [
              "<Figure size 504x504 with 1 Axes>"
            ],
            "image/png": "[encoded data removed]"
          },
          "metadata": {
            "needs_background": "light"
          }
        }
      ]
    },
    {
      "cell_type": "markdown",
      "source": [
        "on a deux valeurs aberrantes => il existe des individus ne souffrant d'anxiété et n'ayant pas de bonnes notes"
      ],
      "metadata": {
        "id": "62nSHkeyz63N"
      }
    },
    {
      "cell_type": "code",
      "source": [
        "sb.catplot(y=\"depression\", x=\"note moyenne\", data = df, kind= \"box\", height=7)"
      ],
      "metadata": {
        "colab": {
          "base_uri": "https://localhost:8080/",
          "height": 530
        },
        "id": "ZvR5qVTMMJj2",
        "outputId": "1935c52a-24f6-476e-ac44-bd490e5913c9"
      },
      "execution_count": 195,
      "outputs": [
        {
          "output_type": "execute_result",
          "data": {
            "text/plain": [
              "<seaborn.axisgrid.FacetGrid at 0x7fee48042550>"
            ]
          },
          "metadata": {},
          "execution_count": 195
        },
        {
          "output_type": "display_data",
          "data": {
            "text/plain": [
              "<Figure size 504x504 with 1 Axes>"
            ],
            "image/png": "[encoded data removed]"
          },
          "metadata": {
            "needs_background": "light"
          }
        }
      ]
    },
    {
      "cell_type": "markdown",
      "source": [
        "on a deux valeurs aberrantes => deux individus ayant une note inferieur a 2.5 et ne souffre pas d'anxiété ..."
      ],
      "metadata": {
        "id": "OLNPuajM0N8g"
      }
    },
    {
      "cell_type": "code",
      "source": [
        "sb.catplot(y=\"panic attack\", x=\"note moyenne\", data = df, kind= \"box\", height=7)"
      ],
      "metadata": {
        "colab": {
          "base_uri": "https://localhost:8080/",
          "height": 530
        },
        "id": "5xz5_U1CM8mi",
        "outputId": "d80b4f20-515d-42a5-8780-378a0438ef1d"
      },
      "execution_count": 196,
      "outputs": [
        {
          "output_type": "execute_result",
          "data": {
            "text/plain": [
              "<seaborn.axisgrid.FacetGrid at 0x7fee47f171d0>"
            ]
          },
          "metadata": {},
          "execution_count": 196
        },
        {
          "output_type": "display_data",
          "data": {
            "text/plain": [
              "<Figure size 504x504 with 1 Axes>"
            ],
            "image/png": "[encoded data removed]"
          },
          "metadata": {
            "needs_background": "light"
          }
        }
      ]
    },
    {
      "cell_type": "markdown",
      "source": [
        "quatres valeurs aberrantes => il existe des étudiants ayant des notes inferieur a 2.5 , certain d'entre eux souffre de crise de panic d'autres non"
      ],
      "metadata": {
        "id": "ytWaCAN60g4t"
      }
    },
    {
      "cell_type": "markdown",
      "source": [
        "**Suppresion des valeurs aberrantes**"
      ],
      "metadata": {
        "id": "Dk_BKYYqOINo"
      }
    },
    {
      "cell_type": "code",
      "source": [
        "\n",
        "new_df = df[ df['note moyenne'] > 2.5] \n",
        "sb.catplot(x=\"note moyenne\", y=\"depression\", data = new_df, kind= \"box\", height=7)\n",
        "\n"
      ],
      "metadata": {
        "colab": {
          "base_uri": "https://localhost:8080/",
          "height": 530
        },
        "id": "2taYNPHMONlk",
        "outputId": "219788c5-ecff-4143-f498-b44ec326eaef"
      },
      "execution_count": 203,
      "outputs": [
        {
          "output_type": "execute_result",
          "data": {
            "text/plain": [
              "<seaborn.axisgrid.FacetGrid at 0x7fee47c50810>"
            ]
          },
          "metadata": {},
          "execution_count": 203
        },
        {
          "output_type": "display_data",
          "data": {
            "text/plain": [
              "<Figure size 504x504 with 1 Axes>"
            ],
            "image/png": "[encoded data removed]"
          },
          "metadata": {
            "needs_background": "light"
          }
        }
      ]
    },
    {
      "cell_type": "markdown",
      "source": [
        "absence de mediane => 50 % souffrent de depression et les autres 50% non\n",
        "\n",
        "50% ont des bonnes notes se situant entre 3.6 et 3.8 ! "
      ],
      "metadata": {
        "id": "P_K7KmsI0yn_"
      }
    },
    {
      "cell_type": "code",
      "source": [
        "sb.catplot(x=\"note moyenne\", y=\"anxiety\", data = new_df, kind= \"box\", height=7)"
      ],
      "metadata": {
        "colab": {
          "base_uri": "https://localhost:8080/",
          "height": 530
        },
        "id": "MqXaZYv9O01u",
        "outputId": "36d7ec1a-181a-4f79-ae62-365b0f0c65ef"
      },
      "execution_count": 198,
      "outputs": [
        {
          "output_type": "execute_result",
          "data": {
            "text/plain": [
              "<seaborn.axisgrid.FacetGrid at 0x7fee47e22a50>"
            ]
          },
          "metadata": {},
          "execution_count": 198
        },
        {
          "output_type": "display_data",
          "data": {
            "text/plain": [
              "<Figure size 504x504 with 1 Axes>"
            ],
            "image/png": "[encoded data removed]"
          },
          "metadata": {
            "needs_background": "light"
          }
        }
      ]
    },
    {
      "cell_type": "markdown",
      "source": [
        "absence de mediane => 50 % souffrent d'anxiété et les autres 50% non\n",
        "\n",
        "50% ont des bonnes notes se situant entre 3.6 et 3.8 ! "
      ],
      "metadata": {
        "id": "oB8AkOS61fGF"
      }
    },
    {
      "cell_type": "code",
      "source": [
        "sb.catplot(x=\"note moyenne\", y=\"panic attack\", data = new_df, kind= \"box\", height=7)"
      ],
      "metadata": {
        "colab": {
          "base_uri": "https://localhost:8080/",
          "height": 530
        },
        "id": "uWmPnC6MPNwk",
        "outputId": "728c80e0-5a16-45c9-ae2a-64791c3531a0"
      },
      "execution_count": 199,
      "outputs": [
        {
          "output_type": "execute_result",
          "data": {
            "text/plain": [
              "<seaborn.axisgrid.FacetGrid at 0x7fee47db8e10>"
            ]
          },
          "metadata": {},
          "execution_count": 199
        },
        {
          "output_type": "display_data",
          "data": {
            "text/plain": [
              "<Figure size 504x504 with 1 Axes>"
            ],
            "image/png": "[encoded data removed]"
          },
          "metadata": {
            "needs_background": "light"
          }
        }
      ]
    },
    {
      "cell_type": "markdown",
      "source": [
        "absence de mediane => 50 % souffrent  de crise de panique  et les autres 50% non\n",
        "\n",
        "50% ont des bonnes notes se situant entre 3.6 et 3.8 ! "
      ],
      "metadata": {
        "id": "bdb2PGcE1l0v"
      }
    },
    {
      "cell_type": "markdown",
      "source": [
        "J'ai converti mes variables quantitatives en variables qualitatives"
      ],
      "metadata": {
        "id": "4-UGFyABaLVq"
      }
    },
    {
      "cell_type": "code",
      "source": [
        "#J'ai remplacé les 'yes' et 'No' par 1 et 0\n",
        "df['depression']= df['depression'].replace(['Yes','No'],[1,0])\n",
        "df['anxiety']= df['anxiety'].replace(['Yes','No'],[1,0])\n",
        "df['panic attack']= df['panic attack'].replace(['Yes','No'],[1,0])\n",
        "df['specialist for a treatment']= df['specialist for a treatment'].replace(['Yes','No'],[1,0])\n",
        "df['Marital status']= df['Marital status'].replace(['Yes','No'],[1,0])\n"
      ],
      "metadata": {
        "id": "39ARHLwMaTxX"
      },
      "execution_count": 233,
      "outputs": []
    },
    {
      "cell_type": "markdown",
      "source": [
        "**y'a t-il correlation entre les notes et la depression?**"
      ],
      "metadata": {
        "id": "FiWeo_fxfge1"
      }
    },
    {
      "cell_type": "code",
      "source": [
        "sb.catplot(x=\"note moyenne\", y=\"anxiety\", data= df, kind=\"bar\", height=10)"
      ],
      "metadata": {
        "colab": {
          "base_uri": "https://localhost:8080/",
          "height": 746
        },
        "id": "VwkI2cumfuSI",
        "outputId": "ea350fb8-dd27-4f22-b852-b07c4baa19e4"
      },
      "execution_count": 241,
      "outputs": [
        {
          "output_type": "execute_result",
          "data": {
            "text/plain": [
              "<seaborn.axisgrid.FacetGrid at 0x7fee47296810>"
            ]
          },
          "metadata": {},
          "execution_count": 241
        },
        {
          "output_type": "display_data",
          "data": {
            "text/plain": [
              "<Figure size 720x720 with 1 Axes>"
            ],
            "image/png": "[encoded data removed]"
          },
          "metadata": {
            "needs_background": "light"
          }
        }
      ]
    },
    {
      "cell_type": "markdown",
      "source": [
        "36 % ont des notes se situant aux alentours de 3.75 \n",
        "\n",
        "les ecarts-types sont énormes donc les deux variables ne sont pas correler\n",
        "\n",
        "plus un étudiant à de bonnes notes, plus il souffre anxiété"
      ],
      "metadata": {
        "id": "4KwhhET62D-K"
      }
    },
    {
      "cell_type": "code",
      "source": [
        "sb.catplot(x=\"note moyenne\", y=\"depression\", data= df, kind=\"bar\", height=10)"
      ],
      "metadata": {
        "colab": {
          "base_uri": "https://localhost:8080/",
          "height": 746
        },
        "id": "PGXQTf4KoDMD",
        "outputId": "0a5e59bc-00d5-46f7-e540-9456e836fa6c"
      },
      "execution_count": 242,
      "outputs": [
        {
          "output_type": "execute_result",
          "data": {
            "text/plain": [
              "<seaborn.axisgrid.FacetGrid at 0x7fee483262d0>"
            ]
          },
          "metadata": {},
          "execution_count": 242
        },
        {
          "output_type": "display_data",
          "data": {
            "text/plain": [
              "<Figure size 720x720 with 1 Axes>"
            ],
            "image/png": "[encoded data removed]"
          },
          "metadata": {
            "needs_background": "light"
          }
        }
      ]
    },
    {
      "cell_type": "markdown",
      "source": [
        "30 % ont des notes se situant aux alentours de 3.75 \n",
        "\n",
        "les ecarts-types sont énormes donc les deux variables ne sont pas correler\n",
        "\n",
        "plus un étudiant à de bonnes notes, plus il souffre de depression"
      ],
      "metadata": {
        "id": "uaqMbVtz2hLH"
      }
    },
    {
      "cell_type": "code",
      "source": [
        "sb.catplot(x=\"note moyenne\", y=\"panic attack\", data= df, kind=\"bar\", height=10)"
      ],
      "metadata": {
        "colab": {
          "base_uri": "https://localhost:8080/",
          "height": 746
        },
        "id": "qILVd6iioQ6p",
        "outputId": "6160e059-722f-48cf-c097-d735fbd598c7"
      },
      "execution_count": 243,
      "outputs": [
        {
          "output_type": "execute_result",
          "data": {
            "text/plain": [
              "<seaborn.axisgrid.FacetGrid at 0x7fee47e8fd10>"
            ]
          },
          "metadata": {},
          "execution_count": 243
        },
        {
          "output_type": "display_data",
          "data": {
            "text/plain": [
              "<Figure size 720x720 with 1 Axes>"
            ],
            "image/png": "[encoded data removed]"
          },
          "metadata": {
            "needs_background": "light"
          }
        }
      ]
    },
    {
      "cell_type": "markdown",
      "source": [
        "40 % ont des notes se situant aux alentours de 3.75 \n",
        "\n",
        "les ecarts-types sont énormes donc les deux variables ne sont pas correler\n",
        "\n",
        "qu'ils aient de bonne notes ou pas , il y'a des etudiant qui souffre crise de panique"
      ],
      "metadata": {
        "id": "VoSQsK0u2uYF"
      }
    },
    {
      "cell_type": "markdown",
      "source": [
        "**matrice et heatmap**"
      ],
      "metadata": {
        "id": "KmeOpbFH6xlZ"
      }
    },
    {
      "cell_type": "code",
      "source": [
        "matrice=df.corr()\n",
        "matrice"
      ],
      "metadata": {
        "colab": {
          "base_uri": "https://localhost:8080/",
          "height": 269
        },
        "id": "iah7UJ0j64_n",
        "outputId": "7608a06f-bfa9-4a48-d2e9-b230eaa29e13"
      },
      "execution_count": 251,
      "outputs": [
        {
          "output_type": "execute_result",
          "data": {
            "text/plain": [
              "                                 Age  Marital status  depression   anxiety  \\\n",
              "Age                         1.000000        0.104551   -0.072171 -0.093661   \n",
              "Marital status              0.104551        1.000000    0.595784  0.092606   \n",
              "depression                 -0.072171        0.595784    1.000000  0.273764   \n",
              "anxiety                    -0.093661        0.092606    0.273764  1.000000   \n",
              "panic attack                0.055741        0.275909    0.246842  0.084478   \n",
              "specialist for a treatment  0.047808        0.349819    0.345105  0.086880   \n",
              "note moyenne                0.005610        0.035134    0.041807  0.172950   \n",
              "\n",
              "                            panic attack  specialist for a treatment  \\\n",
              "Age                             0.055741                    0.047808   \n",
              "Marital status                  0.275909                    0.349819   \n",
              "depression                      0.246842                    0.345105   \n",
              "anxiety                         0.084478                    0.086880   \n",
              "panic attack                    1.000000                    0.182145   \n",
              "specialist for a treatment      0.182145                    1.000000   \n",
              "note moyenne                    0.042511                    0.025342   \n",
              "\n",
              "                            note moyenne  \n",
              "Age                             0.005610  \n",
              "Marital status                  0.035134  \n",
              "depression                      0.041807  \n",
              "anxiety                         0.172950  \n",
              "panic attack                    0.042511  \n",
              "specialist for a treatment      0.025342  \n",
              "note moyenne                    1.000000  "
            ],
            "text/html": [
              "\n",
              "  <div id=\"df-ac91222d-68d5-4b62-a4c5-a6b7d6ea0791\">\n",
              "    <div class=\"colab-df-container\">\n",
              "      <div>\n",
              "<style scoped>\n",
              "    .dataframe tbody tr th:only-of-type {\n",
              "        vertical-align: middle;\n",
              "    }\n",
              "\n",
              "    .dataframe tbody tr th {\n",
              "        vertical-align: top;\n",
              "    }\n",
              "\n",
              "    .dataframe thead th {\n",
              "        text-align: right;\n",
              "    }\n",
              "</style>\n",
              "<table border=\"1\" class=\"dataframe\">\n",
              "  <thead>\n",
              "    <tr style=\"text-align: right;\">\n",
              "      <th></th>\n",
              "      <th>Age</th>\n",
              "      <th>Marital status</th>\n",
              "      <th>depression</th>\n",
              "      <th>anxiety</th>\n",
              "      <th>panic attack</th>\n",
              "      <th>specialist for a treatment</th>\n",
              "      <th>note moyenne</th>\n",
              "    </tr>\n",
              "  </thead>\n",
              "  <tbody>\n",
              "    <tr>\n",
              "      <th>Age</th>\n",
              "      <td>1.000000</td>\n",
              "      <td>0.104551</td>\n",
              "      <td>-0.072171</td>\n",
              "      <td>-0.093661</td>\n",
              "      <td>0.055741</td>\n",
              "      <td>0.047808</td>\n",
              "      <td>0.005610</td>\n",
              "    </tr>\n",
              "    <tr>\n",
              "      <th>Marital status</th>\n",
              "      <td>0.104551</td>\n",
              "      <td>1.000000</td>\n",
              "      <td>0.595784</td>\n",
              "      <td>0.092606</td>\n",
              "      <td>0.275909</td>\n",
              "      <td>0.349819</td>\n",
              "      <td>0.035134</td>\n",
              "    </tr>\n",
              "    <tr>\n",
              "      <th>depression</th>\n",
              "      <td>-0.072171</td>\n",
              "      <td>0.595784</td>\n",
              "      <td>1.000000</td>\n",
              "      <td>0.273764</td>\n",
              "      <td>0.246842</td>\n",
              "      <td>0.345105</td>\n",
              "      <td>0.041807</td>\n",
              "    </tr>\n",
              "    <tr>\n",
              "      <th>anxiety</th>\n",
              "      <td>-0.093661</td>\n",
              "      <td>0.092606</td>\n",
              "      <td>0.273764</td>\n",
              "      <td>1.000000</td>\n",
              "      <td>0.084478</td>\n",
              "      <td>0.086880</td>\n",
              "      <td>0.172950</td>\n",
              "    </tr>\n",
              "    <tr>\n",
              "      <th>panic attack</th>\n",
              "      <td>0.055741</td>\n",
              "      <td>0.275909</td>\n",
              "      <td>0.246842</td>\n",
              "      <td>0.084478</td>\n",
              "      <td>1.000000</td>\n",
              "      <td>0.182145</td>\n",
              "      <td>0.042511</td>\n",
              "    </tr>\n",
              "    <tr>\n",
              "      <th>specialist for a treatment</th>\n",
              "      <td>0.047808</td>\n",
              "      <td>0.349819</td>\n",
              "      <td>0.345105</td>\n",
              "      <td>0.086880</td>\n",
              "      <td>0.182145</td>\n",
              "      <td>1.000000</td>\n",
              "      <td>0.025342</td>\n",
              "    </tr>\n",
              "    <tr>\n",
              "      <th>note moyenne</th>\n",
              "      <td>0.005610</td>\n",
              "      <td>0.035134</td>\n",
              "      <td>0.041807</td>\n",
              "      <td>0.172950</td>\n",
              "      <td>0.042511</td>\n",
              "      <td>0.025342</td>\n",
              "      <td>1.000000</td>\n",
              "    </tr>\n",
              "  </tbody>\n",
              "</table>\n",
              "</div>\n",
              "      <button class=\"colab-df-convert\" onclick=\"convertToInteractive('df-ac91222d-68d5-4b62-a4c5-a6b7d6ea0791')\"\n",
              "              title=\"Convert this dataframe to an interactive table.\"\n",
              "              style=\"display:none;\">\n",
              "        \n",
              "  <svg xmlns=\"http://www.w3.org/2000/svg\" height=\"24px\"viewBox=\"0 0 24 24\"\n",
              "       width=\"24px\">\n",
              "    <path d=\"M0 0h24v24H0V0z\" fill=\"none\"/>\n",
              "    <path d=\"M18.56 5.44l.94 2.06.94-2.06 2.06-.94-2.06-.94-.94-2.06-.94 2.06-2.06.94zm-11 1L8.5 8.5l.94-2.06 2.06-.94-2.06-.94L8.5 2.5l-.94 2.06-2.06.94zm10 10l.94 2.06.94-2.06 2.06-.94-2.06-.94-.94-2.06-.94 2.06-2.06.94z\"/><path d=\"M17.41 7.96l-1.37-1.37c-.4-.4-.92-.59-1.43-.59-.52 0-1.04.2-1.43.59L10.3 9.45l-7.72 7.72c-.78.78-.78 2.05 0 2.83L4 21.41c.39.39.9.59 1.41.59.51 0 1.02-.2 1.41-.59l7.78-7.78 2.81-2.81c.8-.78.8-2.07 0-2.86zM5.41 20L4 18.59l7.72-7.72 1.47 1.35L5.41 20z\"/>\n",
              "  </svg>\n",
              "      </button>\n",
              "      \n",
              "  <style>\n",
              "    .colab-df-container {\n",
              "      display:flex;\n",
              "      flex-wrap:wrap;\n",
              "      gap: 12px;\n",
              "    }\n",
              "\n",
              "    .colab-df-convert {\n",
              "      background-color: #E8F0FE;\n",
              "      border: none;\n",
              "      border-radius: 50%;\n",
              "      cursor: pointer;\n",
              "      display: none;\n",
              "      fill: #1967D2;\n",
              "      height: 32px;\n",
              "      padding: 0 0 0 0;\n",
              "      width: 32px;\n",
              "    }\n",
              "\n",
              "    .colab-df-convert:hover {\n",
              "      background-color: #E2EBFA;\n",
              "      box-shadow: 0px 1px 2px rgba(60, 64, 67, 0.3), 0px 1px 3px 1px rgba(60, 64, 67, 0.15);\n",
              "      fill: #174EA6;\n",
              "    }\n",
              "\n",
              "    [theme=dark] .colab-df-convert {\n",
              "      background-color: #3B4455;\n",
              "      fill: #D2E3FC;\n",
              "    }\n",
              "\n",
              "    [theme=dark] .colab-df-convert:hover {\n",
              "      background-color: #434B5C;\n",
              "      box-shadow: 0px 1px 3px 1px rgba(0, 0, 0, 0.15);\n",
              "      filter: drop-shadow(0px 1px 2px rgba(0, 0, 0, 0.3));\n",
              "      fill: #FFFFFF;\n",
              "    }\n",
              "  </style>\n",
              "\n",
              "      <script>\n",
              "        const buttonEl =\n",
              "          document.querySelector('#df-ac91222d-68d5-4b62-a4c5-a6b7d6ea0791 button.colab-df-convert');\n",
              "        buttonEl.style.display =\n",
              "          google.colab.kernel.accessAllowed ? 'block' : 'none';\n",
              "\n",
              "        async function convertToInteractive(key) {\n",
              "          const element = document.querySelector('#df-ac91222d-68d5-4b62-a4c5-a6b7d6ea0791');\n",
              "          const dataTable =\n",
              "            await google.colab.kernel.invokeFunction('convertToInteractive',\n",
              "                                                     [key], {});\n",
              "          if (!dataTable) return;\n",
              "\n",
              "          const docLinkHtml = 'Like what you see? Visit the ' +\n",
              "            '<a target=\"_blank\" href=https://colab.research.google.com/notebooks/data_table.ipynb>data table notebook</a>'\n",
              "            + ' to learn more about interactive tables.';\n",
              "          element.innerHTML = '';\n",
              "          dataTable['output_type'] = 'display_data';\n",
              "          await google.colab.output.renderOutput(dataTable, element);\n",
              "          const docLink = document.createElement('div');\n",
              "          docLink.innerHTML = docLinkHtml;\n",
              "          element.appendChild(docLink);\n",
              "        }\n",
              "      </script>\n",
              "    </div>\n",
              "  </div>\n",
              "  "
            ]
          },
          "metadata": {},
          "execution_count": 251
        }
      ]
    },
    {
      "cell_type": "code",
      "source": [
        "plt.figure(figsize=(15,6))\n",
        "sb.heatmap(matrice, annot=True)"
      ],
      "metadata": {
        "colab": {
          "base_uri": "https://localhost:8080/",
          "height": 511
        },
        "id": "P7L_lO-kZWNO",
        "outputId": "fcd69af4-13f2-41c2-beeb-eccc8b959db4"
      },
      "execution_count": 250,
      "outputs": [
        {
          "output_type": "execute_result",
          "data": {
            "text/plain": [
              "<matplotlib.axes._subplots.AxesSubplot at 0x7fee46b1ef90>"
            ]
          },
          "metadata": {},
          "execution_count": 250
        },
        {
          "output_type": "display_data",
          "data": {
            "text/plain": [
              "<Figure size 1080x432 with 2 Axes>"
            ],
            "image/png": "[encoded data removed]"
          },
          "metadata": {
            "needs_background": "light"
          }
        }
      ]
    },
    {
      "cell_type": "markdown",
      "source": [
        "il est vrai que la note n'a pas d'influence sur l'anxité, la depression et la crise de panique..mais de ce qu'on peut en conclure de notre heatmap ! la santé mentale est plus relier a sa vie sentimentale et non lié a ses études, les étudiants souffrent de dépression à cause de leur celiba... mais cela n'influe en aucun cas les notes.."
      ],
      "metadata": {
        "id": "scb7lewP3JBG"
      }
    },
    {
      "cell_type": "markdown",
      "source": [
        "**Conclusion**\n",
        "\n",
        "Comme on a pu le constaté **avec** ce jeu de données qui  presente la situation de 100 étudiants , plus un étudiants est anxieux , a des crise de panique ou/et qui est en depression, il aura tendance à avoir de bonnes notes, cela peut etre expliquer par le fait d'avoir peur d'échouer ! ou alors que sa dépression est dû a d'autres facteurs et que cela n'influence pas ses études , que les étudiants qui n'ont pas de bonnes notes ne sont peut etre pas interessés par ce qu'ils font et donc souhaite faire autres choses de leurs vie ou voir meme se réorienté!\n",
        "\n",
        "s'ajoute a cela le fait qu'on a fait cette etude uniquement sur 101 étudiants , il aurait fallut avoir plus de données, voir verié et interroger des étudiants de d'autres région ?\n",
        "\n",
        "donc pour conclure, on ce qui concerne cet échantillon, la santé mentale n'a finalement pas un effet negatif sur les notes de la majorité des étudiants"
      ],
      "metadata": {
        "id": "Cxrfe2KknHkL"
      }
    }
  ]
}